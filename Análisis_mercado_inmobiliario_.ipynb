{
  "nbformat": 4,
  "nbformat_minor": 0,
  "metadata": {
    "kernelspec": {
      "display_name": "Python 3",
      "language": "python",
      "name": "python3"
    },
    "language_info": {
      "codemirror_mode": {
        "name": "ipython",
        "version": 3
      },
      "file_extension": ".py",
      "mimetype": "text/x-python",
      "name": "python",
      "nbconvert_exporter": "python",
      "pygments_lexer": "ipython3",
      "version": "3.6.5"
    },
    "colab": {
      "name": "Análisis mercado inmobiliario .ipynb",
      "provenance": [],
      "collapsed_sections": [],
      "include_colab_link": true
    }
  },
  "cells": [
    {
      "cell_type": "markdown",
      "metadata": {
        "id": "view-in-github",
        "colab_type": "text"
      },
      "source": [
        "<a href=\"https://colab.research.google.com/github/diaruizja/An-lisis_mercado_inmobiliario-/blob/master/An%C3%A1lisis_mercado_inmobiliario_.ipynb\" target=\"_parent\"><img src=\"https://colab.research.google.com/assets/colab-badge.svg\" alt=\"Open In Colab\"/></a>"
      ]
    },
    {
      "cell_type": "markdown",
      "metadata": {
        "id": "mG99bdEhbvQT",
        "colab_type": "text"
      },
      "source": [
        "# Proyecto: Análisis mercado inmobiliario de la Ciudad de Buenos Aires"
      ]
    },
    {
      "cell_type": "markdown",
      "metadata": {
        "id": "wihu2OxRbvQX",
        "colab_type": "text"
      },
      "source": [
        "¡Bienvenidos al primer proyecto de la carrera de Data Science de Acamica! \n",
        "\n",
        "En este proyecto vamos a trabajar con un dataset de propiedades en venta publicadas en el portal [Properati](www.properati.com.ar). El objetivo es dar los primeros pasos en el proceso de exploración de datos usando las herramientas que trabajamos en las activades.\n",
        "\n",
        "Vamos a enfocarnos en analizar algunos aspectos del mercado inmobiliario de la Ciudad de Buenos Aires pero para eso primero debemos limpiar un poco el dataset."
      ]
    },
    {
      "cell_type": "markdown",
      "metadata": {
        "id": "hl6I5KWnbvQZ",
        "colab_type": "text"
      },
      "source": [
        "## El dataset: propiedades en venta en Ciudad de Buenos Aires."
      ]
    },
    {
      "cell_type": "markdown",
      "metadata": {
        "id": "7AYc78t-bvQa",
        "colab_type": "text"
      },
      "source": [
        "En este proyecto, trabajaremos con una muestra del conjunto de datos de propiedades en venta mencionado. En este dataset, cada fila es una propiedad en venta. \n",
        "\n",
        "## Los atributos\n",
        "A continuación vamos a describir los atributos que consideramos en esta muestra:\n",
        "\n",
        "* **id**: id de la propiedad\n",
        "* **created_on**: fecha en la que la propiedad ingresó al sitio\n",
        "* **operation**: alquiler (rent) o venta (sell)\n",
        "* **property_type**: tipo de propiedad (casa, departamento, ph, etcétera)\n",
        "* **place_with_parent_names**: nombre del lugar donde se encuentra la propiedad según el publicador\n",
        "* **lat-lon**: coordenadas concatenadas\n",
        "* **lat**: latitud\n",
        "* **lon**: longitud\n",
        "* **price**: precio en la moneda especificada en currency\n",
        "* **currency**: divisa en la que está expresada la publicación\n",
        "* **price_aprox_usd**: precio aproximado en dólares estadounidenses\n",
        "* **surface_total_in_m2**: superficie total (en metros cuadrados)\n",
        "* **surface_covered_in_m2**: superficie cubierta (en metros cuadrados)\n",
        "* **price_usd_per_m2**: precio por metro cuadrado en dólares (precio dólares / superficie)\n",
        "* **floor**: número de piso (si corresponde)\n",
        "* **rooms**: cantidad de ambientes\n",
        "* **expenses**: expensas (si corresponde)\n",
        "* **barrio**: barrio según cartografía oficial\n",
        "* **properati_url**: url de la publicación en Properati\n"
      ]
    },
    {
      "cell_type": "markdown",
      "metadata": {
        "id": "NRPFoRHTbvQc",
        "colab_type": "text"
      },
      "source": [
        "## Importando las bibliotecas necesarias\n",
        "\n",
        "Para poder trabajar en la limpieza de datos y la visualización de nuestro dataset vamos a utilizar las bibliotecas numpy, pandas, matplotlib.pylab y seaborn. \n",
        "\n",
        "** 1) Importá ** cada una de ellas con los siguientes nombres: \n",
        "- **numpy** como **np**\n",
        "- **pandas** como **pd**\n",
        "- **matplotlib.pylab** como **plt**\n",
        "- **seaborn** como **sns**\n"
      ]
    },
    {
      "cell_type": "code",
      "metadata": {
        "id": "QzZO54KNbvQd",
        "colab_type": "code",
        "colab": {
          "base_uri": "https://localhost:8080/",
          "height": 71
        },
        "outputId": "d0f5c9de-08c5-45b5-9fdd-d84757ae1cb6"
      },
      "source": [
        "# Importar bibliotecas en esta celda\n",
        "import numpy as np\n",
        "import pandas as pd\n",
        "import matplotlib.pyplot as plt\n",
        "import seaborn as sns\n",
        "sns.set()"
      ],
      "execution_count": null,
      "outputs": [
        {
          "output_type": "stream",
          "text": [
            "/usr/local/lib/python3.6/dist-packages/statsmodels/tools/_testing.py:19: FutureWarning: pandas.util.testing is deprecated. Use the functions in the public API at pandas.testing instead.\n",
            "  import pandas.util.testing as tm\n"
          ],
          "name": "stderr"
        }
      ]
    },
    {
      "cell_type": "code",
      "metadata": {
        "id": "CO19Z-SkbvQj",
        "colab_type": "code",
        "colab": {}
      },
      "source": [
        "# La siguiente línea es para ver las imagenes dentro del notebook\n",
        "%matplotlib inline\n",
        "# Acá configuramos el tamaño de las figuras\n",
        "plt.rcParams['figure.figsize'] = (12,8)\n",
        "# Seteamos opciones de pandas sobre las columnas y su ancho\n",
        "pd.set_option('max_columns', 120)\n",
        "pd.set_option('max_colwidth', 5000)\n"
      ],
      "execution_count": null,
      "outputs": []
    },
    {
      "cell_type": "markdown",
      "metadata": {
        "id": "YgL1ZQxdbvQn",
        "colab_type": "text"
      },
      "source": [
        "## Cargando dataset de propiedades\n",
        "\n",
        "**2) Cargá** el dataset que se encuentra en la carpeta *dataset/* y guardalo en una variable llamada **df**. \n",
        "No te olvides de utilizar **parse_dates** sobre la columna **created_on**\n"
      ]
    },
    {
      "cell_type": "code",
      "metadata": {
        "id": "O5_uxuL1n9Hm",
        "colab_type": "code",
        "colab": {
          "base_uri": "https://localhost:8080/",
          "height": 122
        },
        "outputId": "3bba4a6d-fe60-463a-bfa3-351eb45cccd4"
      },
      "source": [
        "from google.colab import drive\n",
        "drive.mount('/content/drive')"
      ],
      "execution_count": null,
      "outputs": [
        {
          "output_type": "stream",
          "text": [
            "Go to this URL in a browser: https://accounts.google.com/o/oauth2/auth?client_id=947318989803-6bn6qk8qdgf4n4g3pfee6491hc0brc4i.apps.googleusercontent.com&redirect_uri=urn%3aietf%3awg%3aoauth%3a2.0%3aoob&response_type=code&scope=email%20https%3a%2f%2fwww.googleapis.com%2fauth%2fdocs.test%20https%3a%2f%2fwww.googleapis.com%2fauth%2fdrive%20https%3a%2f%2fwww.googleapis.com%2fauth%2fdrive.photos.readonly%20https%3a%2f%2fwww.googleapis.com%2fauth%2fpeopleapi.readonly\n",
            "\n",
            "Enter your authorization code:\n",
            "··········\n",
            "Mounted at /content/drive\n"
          ],
          "name": "stdout"
        }
      ]
    },
    {
      "cell_type": "code",
      "metadata": {
        "id": "V6Gvdz0tbvQp",
        "colab_type": "code",
        "colab": {}
      },
      "source": [
        "# cargá el dataset en esta celda\n",
        "\n",
        "df=pd.read_csv(\"/content/drive/My Drive/Data Science/Entregas de proyectos/Entrega #1/datos_properati.csv\", parse_dates=[\"created_on\"])"
      ],
      "execution_count": null,
      "outputs": []
    },
    {
      "cell_type": "markdown",
      "metadata": {
        "id": "eIEhdbPFbvQt",
        "colab_type": "text"
      },
      "source": [
        "## Exploración de datos"
      ]
    },
    {
      "cell_type": "markdown",
      "metadata": {
        "id": "rcFwFlDMbvQw",
        "colab_type": "text"
      },
      "source": [
        "Lo primero que vamos a hacer es ver qué forma tiene el dataset que acabamos de cargar. Para eso vamos a mostrar las primeras 3 entradas del mismo y utilizar la propiedad `shape` para ver la cantidad de instancias y atributos con los que vamos a estar trabajando."
      ]
    },
    {
      "cell_type": "code",
      "metadata": {
        "id": "x9Zm5tFubvQz",
        "colab_type": "code",
        "colab": {
          "base_uri": "https://localhost:8080/",
          "height": 298
        },
        "outputId": "24f895f0-6a77-4cd6-c4e0-5db24f9bc177"
      },
      "source": [
        "print(df.shape)\n",
        "df.head(3)"
      ],
      "execution_count": null,
      "outputs": [
        {
          "output_type": "stream",
          "text": [
            "(18979, 17)\n"
          ],
          "name": "stdout"
        },
        {
          "output_type": "execute_result",
          "data": {
            "text/html": [
              "<div>\n",
              "<style scoped>\n",
              "    .dataframe tbody tr th:only-of-type {\n",
              "        vertical-align: middle;\n",
              "    }\n",
              "\n",
              "    .dataframe tbody tr th {\n",
              "        vertical-align: top;\n",
              "    }\n",
              "\n",
              "    .dataframe thead th {\n",
              "        text-align: right;\n",
              "    }\n",
              "</style>\n",
              "<table border=\"1\" class=\"dataframe\">\n",
              "  <thead>\n",
              "    <tr style=\"text-align: right;\">\n",
              "      <th></th>\n",
              "      <th>created_on</th>\n",
              "      <th>operation</th>\n",
              "      <th>property_type</th>\n",
              "      <th>place_with_parent_names</th>\n",
              "      <th>lat-lon</th>\n",
              "      <th>lat</th>\n",
              "      <th>lon</th>\n",
              "      <th>price_aprox_usd</th>\n",
              "      <th>surface_total_in_m2</th>\n",
              "      <th>surface_covered_in_m2</th>\n",
              "      <th>price_usd_per_m2</th>\n",
              "      <th>floor</th>\n",
              "      <th>rooms</th>\n",
              "      <th>expenses</th>\n",
              "      <th>properati_url</th>\n",
              "      <th>barrio</th>\n",
              "      <th>comuna</th>\n",
              "    </tr>\n",
              "  </thead>\n",
              "  <tbody>\n",
              "    <tr>\n",
              "      <th>0</th>\n",
              "      <td>2017-09-22</td>\n",
              "      <td>sell</td>\n",
              "      <td>house</td>\n",
              "      <td>|Argentina|Capital Federal|Palermo|Palermo Viejo|</td>\n",
              "      <td>-34.5889531469,-58.4298817776</td>\n",
              "      <td>-34.588953</td>\n",
              "      <td>-58.429882</td>\n",
              "      <td>2000000.0</td>\n",
              "      <td>312.0</td>\n",
              "      <td>NaN</td>\n",
              "      <td>6410.25641</td>\n",
              "      <td>NaN</td>\n",
              "      <td>NaN</td>\n",
              "      <td>NaN</td>\n",
              "      <td>https://www.properati.com.ar/2os_venta_casa_palermo-viejo_rent-ba</td>\n",
              "      <td>PALERMO</td>\n",
              "      <td>14.0</td>\n",
              "    </tr>\n",
              "    <tr>\n",
              "      <th>1</th>\n",
              "      <td>2017-08-01</td>\n",
              "      <td>sell</td>\n",
              "      <td>store</td>\n",
              "      <td>|Argentina|Capital Federal|Palermo|</td>\n",
              "      <td>-34.586069,-58.414431</td>\n",
              "      <td>-34.586069</td>\n",
              "      <td>-58.414431</td>\n",
              "      <td>790000.0</td>\n",
              "      <td>121.0</td>\n",
              "      <td>121.0</td>\n",
              "      <td>6528.92562</td>\n",
              "      <td>NaN</td>\n",
              "      <td>NaN</td>\n",
              "      <td>NaN</td>\n",
              "      <td>https://www.properati.com.ar/1cl7l_venta_local_palermo_santa-fe-av-al-3500_sotano_garage_subte-linea-d_deptos-temporarios</td>\n",
              "      <td>PALERMO</td>\n",
              "      <td>14.0</td>\n",
              "    </tr>\n",
              "    <tr>\n",
              "      <th>2</th>\n",
              "      <td>2017-08-02</td>\n",
              "      <td>sell</td>\n",
              "      <td>store</td>\n",
              "      <td>|Argentina|Capital Federal|Palermo|Palermo Soho|</td>\n",
              "      <td>-34.589723,-58.4325664</td>\n",
              "      <td>-34.589723</td>\n",
              "      <td>-58.432566</td>\n",
              "      <td>343000.0</td>\n",
              "      <td>122.0</td>\n",
              "      <td>108.0</td>\n",
              "      <td>2811.47541</td>\n",
              "      <td>NaN</td>\n",
              "      <td>2.0</td>\n",
              "      <td>NaN</td>\n",
              "      <td>https://www.properati.com.ar/1cm8w_venta_local_palermo-soho_cabrera-jose-a-_5000_jardin_lavadero_patio_piscina_toilette_garage_ojo-propiedades</td>\n",
              "      <td>PALERMO</td>\n",
              "      <td>14.0</td>\n",
              "    </tr>\n",
              "  </tbody>\n",
              "</table>\n",
              "</div>"
            ],
            "text/plain": [
              "  created_on operation property_type  \\\n",
              "0 2017-09-22      sell         house   \n",
              "1 2017-08-01      sell         store   \n",
              "2 2017-08-02      sell         store   \n",
              "\n",
              "                             place_with_parent_names  \\\n",
              "0  |Argentina|Capital Federal|Palermo|Palermo Viejo|   \n",
              "1                |Argentina|Capital Federal|Palermo|   \n",
              "2   |Argentina|Capital Federal|Palermo|Palermo Soho|   \n",
              "\n",
              "                         lat-lon        lat        lon  price_aprox_usd  \\\n",
              "0  -34.5889531469,-58.4298817776 -34.588953 -58.429882        2000000.0   \n",
              "1          -34.586069,-58.414431 -34.586069 -58.414431         790000.0   \n",
              "2         -34.589723,-58.4325664 -34.589723 -58.432566         343000.0   \n",
              "\n",
              "   surface_total_in_m2  surface_covered_in_m2  price_usd_per_m2  floor  rooms  \\\n",
              "0                312.0                    NaN        6410.25641    NaN    NaN   \n",
              "1                121.0                  121.0        6528.92562    NaN    NaN   \n",
              "2                122.0                  108.0        2811.47541    NaN    2.0   \n",
              "\n",
              "   expenses  \\\n",
              "0       NaN   \n",
              "1       NaN   \n",
              "2       NaN   \n",
              "\n",
              "                                                                                                                                    properati_url  \\\n",
              "0                                                                               https://www.properati.com.ar/2os_venta_casa_palermo-viejo_rent-ba   \n",
              "1                       https://www.properati.com.ar/1cl7l_venta_local_palermo_santa-fe-av-al-3500_sotano_garage_subte-linea-d_deptos-temporarios   \n",
              "2  https://www.properati.com.ar/1cm8w_venta_local_palermo-soho_cabrera-jose-a-_5000_jardin_lavadero_patio_piscina_toilette_garage_ojo-propiedades   \n",
              "\n",
              "    barrio  comuna  \n",
              "0  PALERMO    14.0  \n",
              "1  PALERMO    14.0  \n",
              "2  PALERMO    14.0  "
            ]
          },
          "metadata": {
            "tags": []
          },
          "execution_count": 6
        }
      ]
    },
    {
      "cell_type": "code",
      "metadata": {
        "id": "uuz1rMrlVKxN",
        "colab_type": "code",
        "colab": {
          "base_uri": "https://localhost:8080/",
          "height": 323
        },
        "outputId": "acf9e052-9c15-4e81-f098-91ff5058abe3"
      },
      "source": [
        "df.dtypes"
      ],
      "execution_count": null,
      "outputs": [
        {
          "output_type": "execute_result",
          "data": {
            "text/plain": [
              "created_on                 datetime64[ns]\n",
              "operation                          object\n",
              "property_type                      object\n",
              "place_with_parent_names            object\n",
              "lat-lon                            object\n",
              "lat                               float64\n",
              "lon                               float64\n",
              "price_aprox_usd                   float64\n",
              "surface_total_in_m2               float64\n",
              "surface_covered_in_m2             float64\n",
              "price_usd_per_m2                  float64\n",
              "floor                             float64\n",
              "rooms                             float64\n",
              "expenses                          float64\n",
              "properati_url                      object\n",
              "barrio                             object\n",
              "comuna                            float64\n",
              "dtype: object"
            ]
          },
          "metadata": {
            "tags": []
          },
          "execution_count": 13
        }
      ]
    },
    {
      "cell_type": "markdown",
      "metadata": {
        "id": "Y1MaTn7qbvQ4",
        "colab_type": "text"
      },
      "source": [
        "## Categorías de propiedades\n",
        "En primer lugar vamos a ver qué categorías existen en el campo `property_type`. Y de esas categorías cuantos valores tenemos de cada uno.\n",
        "\n",
        "**3) Mostrá** las categorías de `property_type` y cuántas instancias hay de cada una.\n",
        "\n",
        "Recordá utilizar funciones del **dataframe** de pandas para realizar esto."
      ]
    },
    {
      "cell_type": "code",
      "metadata": {
        "id": "4vatQW3PbvQ5",
        "colab_type": "code",
        "colab": {
          "base_uri": "https://localhost:8080/",
          "height": 102
        },
        "outputId": "6366c4e9-fc9a-4f9d-dcec-27585b059d28"
      },
      "source": [
        "# mostrá las categorías del campo property_type y mostrá la cant. de valores en esta celda\n",
        "df[\"property_type\"].value_counts()"
      ],
      "execution_count": null,
      "outputs": [
        {
          "output_type": "execute_result",
          "data": {
            "text/plain": [
              "apartment    14807\n",
              "house         1618\n",
              "PH            1463\n",
              "store         1091\n",
              "Name: property_type, dtype: int64"
            ]
          },
          "metadata": {
            "tags": []
          },
          "execution_count": 7
        }
      ]
    },
    {
      "cell_type": "markdown",
      "metadata": {
        "id": "eeO9QU7wbvQ9",
        "colab_type": "text"
      },
      "source": [
        "### Filtrando las categorías\n",
        "\n",
        "De las categorías existentes sólo queremos quedarnos con las que sean casas (house), departamentos (apartment) o PH (PH). \n",
        "\n",
        "Para esto, \n",
        "\n",
        "**4) filtrá** el `dataframe` original creando un **nuevo** `dataframe` llamado `df_filtered`. Este es el `dataframe` que seguirás usando a lo largo del análisis.\n"
      ]
    },
    {
      "cell_type": "code",
      "metadata": {
        "id": "nucK8c9MbvQ-",
        "colab_type": "code",
        "colab": {
          "base_uri": "https://localhost:8080/",
          "height": 473
        },
        "outputId": "0c44ede3-69a0-4d37-b1c1-2024b8fd3d50"
      },
      "source": [
        "# Filtrá el dataframe en esta celda\n",
        "lista_propiedades = ['house','apartment','PH']\n",
        "df_filtered=df[df['property_type'].isin(lista_propiedades)]\n",
        "df_filtered.head(7)"
      ],
      "execution_count": null,
      "outputs": [
        {
          "output_type": "execute_result",
          "data": {
            "text/html": [
              "<div>\n",
              "<style scoped>\n",
              "    .dataframe tbody tr th:only-of-type {\n",
              "        vertical-align: middle;\n",
              "    }\n",
              "\n",
              "    .dataframe tbody tr th {\n",
              "        vertical-align: top;\n",
              "    }\n",
              "\n",
              "    .dataframe thead th {\n",
              "        text-align: right;\n",
              "    }\n",
              "</style>\n",
              "<table border=\"1\" class=\"dataframe\">\n",
              "  <thead>\n",
              "    <tr style=\"text-align: right;\">\n",
              "      <th></th>\n",
              "      <th>created_on</th>\n",
              "      <th>operation</th>\n",
              "      <th>property_type</th>\n",
              "      <th>place_with_parent_names</th>\n",
              "      <th>lat-lon</th>\n",
              "      <th>lat</th>\n",
              "      <th>lon</th>\n",
              "      <th>price_aprox_usd</th>\n",
              "      <th>surface_total_in_m2</th>\n",
              "      <th>surface_covered_in_m2</th>\n",
              "      <th>price_usd_per_m2</th>\n",
              "      <th>floor</th>\n",
              "      <th>rooms</th>\n",
              "      <th>expenses</th>\n",
              "      <th>properati_url</th>\n",
              "      <th>barrio</th>\n",
              "      <th>comuna</th>\n",
              "    </tr>\n",
              "  </thead>\n",
              "  <tbody>\n",
              "    <tr>\n",
              "      <th>0</th>\n",
              "      <td>2017-09-22</td>\n",
              "      <td>sell</td>\n",
              "      <td>house</td>\n",
              "      <td>|Argentina|Capital Federal|Palermo|Palermo Viejo|</td>\n",
              "      <td>-34.5889531469,-58.4298817776</td>\n",
              "      <td>-34.588953</td>\n",
              "      <td>-58.429882</td>\n",
              "      <td>2000000.0</td>\n",
              "      <td>312.0</td>\n",
              "      <td>NaN</td>\n",
              "      <td>6410.256410</td>\n",
              "      <td>NaN</td>\n",
              "      <td>NaN</td>\n",
              "      <td>NaN</td>\n",
              "      <td>https://www.properati.com.ar/2os_venta_casa_palermo-viejo_rent-ba</td>\n",
              "      <td>PALERMO</td>\n",
              "      <td>14.0</td>\n",
              "    </tr>\n",
              "    <tr>\n",
              "      <th>18</th>\n",
              "      <td>2017-08-29</td>\n",
              "      <td>sell</td>\n",
              "      <td>apartment</td>\n",
              "      <td>|Argentina|Capital Federal|Palermo|</td>\n",
              "      <td>-34.588912403,-58.4134942185</td>\n",
              "      <td>-34.588912</td>\n",
              "      <td>-58.413494</td>\n",
              "      <td>340000.0</td>\n",
              "      <td>130.0</td>\n",
              "      <td>120.0</td>\n",
              "      <td>2615.384615</td>\n",
              "      <td>NaN</td>\n",
              "      <td>4.0</td>\n",
              "      <td>8000.0</td>\n",
              "      <td>https://www.properati.com.ar/1dzv6_venta_departamento_palermo_guemes_3600_balcon_suite_jardin_lavadero_luminoso_lujoso_dependencias_placard_doble-circulacion_subte-linea-d_luisio-propiedades-suc-virrey-del-pino-2378</td>\n",
              "      <td>PALERMO</td>\n",
              "      <td>14.0</td>\n",
              "    </tr>\n",
              "    <tr>\n",
              "      <th>19</th>\n",
              "      <td>2017-08-29</td>\n",
              "      <td>sell</td>\n",
              "      <td>apartment</td>\n",
              "      <td>|Argentina|Capital Federal|Palermo|</td>\n",
              "      <td>-34.5770327,-58.4233675</td>\n",
              "      <td>-34.577033</td>\n",
              "      <td>-58.423368</td>\n",
              "      <td>222000.0</td>\n",
              "      <td>52.0</td>\n",
              "      <td>48.0</td>\n",
              "      <td>4269.230769</td>\n",
              "      <td>NaN</td>\n",
              "      <td>1.0</td>\n",
              "      <td>NaN</td>\n",
              "      <td>https://www.properati.com.ar/1e05k_venta_departamento_palermo_juncal-al-4500_gimnasio_jardin_lavadero_parrilla_piscina_sum_aire-acondicionado_subte-linea-h_subte-linea-c_deptos-temporarios</td>\n",
              "      <td>PALERMO</td>\n",
              "      <td>14.0</td>\n",
              "    </tr>\n",
              "    <tr>\n",
              "      <th>20</th>\n",
              "      <td>2017-08-29</td>\n",
              "      <td>sell</td>\n",
              "      <td>apartment</td>\n",
              "      <td>|Argentina|Capital Federal|Palermo|</td>\n",
              "      <td>-34.5950139,-58.4273915</td>\n",
              "      <td>-34.595014</td>\n",
              "      <td>-58.427392</td>\n",
              "      <td>180000.0</td>\n",
              "      <td>70.0</td>\n",
              "      <td>70.0</td>\n",
              "      <td>2571.428571</td>\n",
              "      <td>NaN</td>\n",
              "      <td>NaN</td>\n",
              "      <td>3000.0</td>\n",
              "      <td>https://www.properati.com.ar/1e0mq_venta_departamento_palermo_julian-alvarez-al-1200_lavadero_amoblado_sanchez-carrizo-real-estate</td>\n",
              "      <td>PALERMO</td>\n",
              "      <td>14.0</td>\n",
              "    </tr>\n",
              "    <tr>\n",
              "      <th>22</th>\n",
              "      <td>2017-08-30</td>\n",
              "      <td>sell</td>\n",
              "      <td>house</td>\n",
              "      <td>|Argentina|Capital Federal|Palermo|Palermo Hollywood|</td>\n",
              "      <td>-34.5793535,-58.4364489</td>\n",
              "      <td>-34.579354</td>\n",
              "      <td>-58.436449</td>\n",
              "      <td>1200000.0</td>\n",
              "      <td>532.0</td>\n",
              "      <td>334.0</td>\n",
              "      <td>2255.639098</td>\n",
              "      <td>NaN</td>\n",
              "      <td>6.0</td>\n",
              "      <td>NaN</td>\n",
              "      <td>https://www.properati.com.ar/1e1ve_venta_casa_palermo-hollywood_jardin_lavadero_piscina_luminoso_vista_garage_nexo-propiedades_h0z</td>\n",
              "      <td>PALERMO</td>\n",
              "      <td>14.0</td>\n",
              "    </tr>\n",
              "    <tr>\n",
              "      <th>24</th>\n",
              "      <td>2017-08-30</td>\n",
              "      <td>sell</td>\n",
              "      <td>apartment</td>\n",
              "      <td>|Argentina|Capital Federal|Palermo|Palermo Hollywood|</td>\n",
              "      <td>-34.5809281,-58.4404321</td>\n",
              "      <td>-34.580928</td>\n",
              "      <td>-58.440432</td>\n",
              "      <td>270000.0</td>\n",
              "      <td>67.0</td>\n",
              "      <td>64.0</td>\n",
              "      <td>4029.850746</td>\n",
              "      <td>NaN</td>\n",
              "      <td>3.0</td>\n",
              "      <td>3900.0</td>\n",
              "      <td>https://www.properati.com.ar/1e1x0_venta_departamento_palermo-hollywood_arevalo_1700_balcon_toilette_luminoso_apto-credito-hipotecario_yankel-group</td>\n",
              "      <td>PALERMO</td>\n",
              "      <td>14.0</td>\n",
              "    </tr>\n",
              "    <tr>\n",
              "      <th>25</th>\n",
              "      <td>2017-08-30</td>\n",
              "      <td>sell</td>\n",
              "      <td>PH</td>\n",
              "      <td>|Argentina|Capital Federal|Palermo|Palermo Soho|</td>\n",
              "      <td>-34.5897765,-58.428558</td>\n",
              "      <td>-34.589776</td>\n",
              "      <td>-58.428558</td>\n",
              "      <td>219000.0</td>\n",
              "      <td>72.0</td>\n",
              "      <td>NaN</td>\n",
              "      <td>3041.666667</td>\n",
              "      <td>NaN</td>\n",
              "      <td>3.0</td>\n",
              "      <td>NaN</td>\n",
              "      <td>https://www.properati.com.ar/1e1xj_venta_ph_palermo-soho_honduras_4800_patio_luminoso_ojo-propiedades</td>\n",
              "      <td>PALERMO</td>\n",
              "      <td>14.0</td>\n",
              "    </tr>\n",
              "  </tbody>\n",
              "</table>\n",
              "</div>"
            ],
            "text/plain": [
              "   created_on operation property_type  \\\n",
              "0  2017-09-22      sell         house   \n",
              "18 2017-08-29      sell     apartment   \n",
              "19 2017-08-29      sell     apartment   \n",
              "20 2017-08-29      sell     apartment   \n",
              "22 2017-08-30      sell         house   \n",
              "24 2017-08-30      sell     apartment   \n",
              "25 2017-08-30      sell            PH   \n",
              "\n",
              "                                  place_with_parent_names  \\\n",
              "0       |Argentina|Capital Federal|Palermo|Palermo Viejo|   \n",
              "18                    |Argentina|Capital Federal|Palermo|   \n",
              "19                    |Argentina|Capital Federal|Palermo|   \n",
              "20                    |Argentina|Capital Federal|Palermo|   \n",
              "22  |Argentina|Capital Federal|Palermo|Palermo Hollywood|   \n",
              "24  |Argentina|Capital Federal|Palermo|Palermo Hollywood|   \n",
              "25       |Argentina|Capital Federal|Palermo|Palermo Soho|   \n",
              "\n",
              "                          lat-lon        lat        lon  price_aprox_usd  \\\n",
              "0   -34.5889531469,-58.4298817776 -34.588953 -58.429882        2000000.0   \n",
              "18   -34.588912403,-58.4134942185 -34.588912 -58.413494         340000.0   \n",
              "19        -34.5770327,-58.4233675 -34.577033 -58.423368         222000.0   \n",
              "20        -34.5950139,-58.4273915 -34.595014 -58.427392         180000.0   \n",
              "22        -34.5793535,-58.4364489 -34.579354 -58.436449        1200000.0   \n",
              "24        -34.5809281,-58.4404321 -34.580928 -58.440432         270000.0   \n",
              "25         -34.5897765,-58.428558 -34.589776 -58.428558         219000.0   \n",
              "\n",
              "    surface_total_in_m2  surface_covered_in_m2  price_usd_per_m2  floor  \\\n",
              "0                 312.0                    NaN       6410.256410    NaN   \n",
              "18                130.0                  120.0       2615.384615    NaN   \n",
              "19                 52.0                   48.0       4269.230769    NaN   \n",
              "20                 70.0                   70.0       2571.428571    NaN   \n",
              "22                532.0                  334.0       2255.639098    NaN   \n",
              "24                 67.0                   64.0       4029.850746    NaN   \n",
              "25                 72.0                    NaN       3041.666667    NaN   \n",
              "\n",
              "    rooms  expenses  \\\n",
              "0     NaN       NaN   \n",
              "18    4.0    8000.0   \n",
              "19    1.0       NaN   \n",
              "20    NaN    3000.0   \n",
              "22    6.0       NaN   \n",
              "24    3.0    3900.0   \n",
              "25    3.0       NaN   \n",
              "\n",
              "                                                                                                                                                                                                              properati_url  \\\n",
              "0                                                                                                                                                         https://www.properati.com.ar/2os_venta_casa_palermo-viejo_rent-ba   \n",
              "18  https://www.properati.com.ar/1dzv6_venta_departamento_palermo_guemes_3600_balcon_suite_jardin_lavadero_luminoso_lujoso_dependencias_placard_doble-circulacion_subte-linea-d_luisio-propiedades-suc-virrey-del-pino-2378   \n",
              "19                             https://www.properati.com.ar/1e05k_venta_departamento_palermo_juncal-al-4500_gimnasio_jardin_lavadero_parrilla_piscina_sum_aire-acondicionado_subte-linea-h_subte-linea-c_deptos-temporarios   \n",
              "20                                                                                       https://www.properati.com.ar/1e0mq_venta_departamento_palermo_julian-alvarez-al-1200_lavadero_amoblado_sanchez-carrizo-real-estate   \n",
              "22                                                                                       https://www.properati.com.ar/1e1ve_venta_casa_palermo-hollywood_jardin_lavadero_piscina_luminoso_vista_garage_nexo-propiedades_h0z   \n",
              "24                                                                      https://www.properati.com.ar/1e1x0_venta_departamento_palermo-hollywood_arevalo_1700_balcon_toilette_luminoso_apto-credito-hipotecario_yankel-group   \n",
              "25                                                                                                                    https://www.properati.com.ar/1e1xj_venta_ph_palermo-soho_honduras_4800_patio_luminoso_ojo-propiedades   \n",
              "\n",
              "     barrio  comuna  \n",
              "0   PALERMO    14.0  \n",
              "18  PALERMO    14.0  \n",
              "19  PALERMO    14.0  \n",
              "20  PALERMO    14.0  \n",
              "22  PALERMO    14.0  \n",
              "24  PALERMO    14.0  \n",
              "25  PALERMO    14.0  "
            ]
          },
          "metadata": {
            "tags": []
          },
          "execution_count": 141
        }
      ]
    },
    {
      "cell_type": "code",
      "metadata": {
        "id": "wQxczmLx4_7X",
        "colab_type": "code",
        "colab": {
          "base_uri": "https://localhost:8080/",
          "height": 391
        },
        "outputId": "68f7d57d-e701-4f5a-d66b-a03f4a9295d4"
      },
      "source": [
        "df_filtered.info()"
      ],
      "execution_count": null,
      "outputs": [
        {
          "output_type": "stream",
          "text": [
            "<class 'pandas.core.frame.DataFrame'>\n",
            "Int64Index: 17888 entries, 0 to 18978\n",
            "Data columns (total 17 columns):\n",
            "created_on                 17888 non-null datetime64[ns]\n",
            "operation                  17888 non-null object\n",
            "property_type              17888 non-null object\n",
            "place_with_parent_names    17888 non-null object\n",
            "lat-lon                    17888 non-null object\n",
            "lat                        17888 non-null float64\n",
            "lon                        17888 non-null float64\n",
            "price_aprox_usd            16511 non-null float64\n",
            "surface_total_in_m2        15691 non-null float64\n",
            "surface_covered_in_m2      15968 non-null float64\n",
            "price_usd_per_m2           15207 non-null float64\n",
            "floor                      2720 non-null float64\n",
            "rooms                      13407 non-null float64\n",
            "expenses                   3698 non-null float64\n",
            "properati_url              17888 non-null object\n",
            "barrio                     17888 non-null object\n",
            "comuna                     17888 non-null float64\n",
            "dtypes: datetime64[ns](1), float64(10), object(6)\n",
            "memory usage: 2.5+ MB\n"
          ],
          "name": "stdout"
        }
      ]
    },
    {
      "cell_type": "markdown",
      "metadata": {
        "id": "6mzp6Nd1bvRC",
        "colab_type": "text"
      },
      "source": [
        "### Visualizando las categorías\n",
        "**5)** Utilizando `seaborn` **creá un countplot** para visualizar las categorías de `df_filtered` en el campo `property_type` "
      ]
    },
    {
      "cell_type": "code",
      "metadata": {
        "id": "uQzdHEoXbvRD",
        "colab_type": "code",
        "colab": {
          "base_uri": "https://localhost:8080/",
          "height": 519
        },
        "outputId": "ecfd412e-6f99-4de7-f2ae-a5097d220914"
      },
      "source": [
        "# Visualizá las categorías en esta celda\n",
        "\n",
        "sns.countplot(x=\"property_type\", data=df_filtered)"
      ],
      "execution_count": null,
      "outputs": [
        {
          "output_type": "execute_result",
          "data": {
            "text/plain": [
              "<matplotlib.axes._subplots.AxesSubplot at 0x7f706013d5c0>"
            ]
          },
          "metadata": {
            "tags": []
          },
          "execution_count": 143
        },
        {
          "output_type": "display_data",
          "data": {
            "image/png": "[encoded data removed]",
            "text/plain": [
              "<Figure size 864x576 with 1 Axes>"
            ]
          },
          "metadata": {
            "tags": []
          }
        }
      ]
    },
    {
      "cell_type": "markdown",
      "metadata": {
        "id": "lyDfNTZobvRH",
        "colab_type": "text"
      },
      "source": [
        "## Valores Faltantes"
      ]
    },
    {
      "cell_type": "markdown",
      "metadata": {
        "id": "HAhHZssibvRI",
        "colab_type": "text"
      },
      "source": [
        "Vamos a querer descartar aquellas instancias que tengan valores nulos en columnas importantes para el análisis del mercado.\n",
        "Estas columnas son las que informan **superficie (total o cubierta)**, **cantidad de ambientes**, **precio** y **precio por metro cuadrado**.\n",
        "\n",
        "**6) Quitá** del `dataframe` las instancias que no tengan ningún valor en los campos nombrados."
      ]
    },
    {
      "cell_type": "code",
      "metadata": {
        "id": "obu005UxLy-m",
        "colab_type": "code",
        "colab": {
          "base_uri": "https://localhost:8080/",
          "height": 476
        },
        "outputId": "eca90c24-d215-418f-a429-bbac6bfd6b89"
      },
      "source": [
        "df_filtered.dropna(subset=['surface_total_in_m2','surface_covered_in_m2','rooms','price_aprox_usd','price_usd_per_m2'], inplace=True)\n",
        "df_filtered.info()"
      ],
      "execution_count": null,
      "outputs": [
        {
          "output_type": "stream",
          "text": [
            "<class 'pandas.core.frame.DataFrame'>\n",
            "Int64Index: 11975 entries, 18 to 18978\n",
            "Data columns (total 17 columns):\n",
            "created_on                 11975 non-null datetime64[ns]\n",
            "operation                  11975 non-null object\n",
            "property_type              11975 non-null object\n",
            "place_with_parent_names    11975 non-null object\n",
            "lat-lon                    11975 non-null object\n",
            "lat                        11975 non-null float64\n",
            "lon                        11975 non-null float64\n",
            "price_aprox_usd            11975 non-null float64\n",
            "surface_total_in_m2        11975 non-null float64\n",
            "surface_covered_in_m2      11975 non-null float64\n",
            "price_usd_per_m2           11975 non-null float64\n",
            "floor                      1863 non-null float64\n",
            "rooms                      11975 non-null float64\n",
            "expenses                   2272 non-null float64\n",
            "properati_url              11975 non-null object\n",
            "barrio                     11975 non-null object\n",
            "comuna                     11975 non-null float64\n",
            "dtypes: datetime64[ns](1), float64(10), object(6)\n",
            "memory usage: 1.6+ MB\n"
          ],
          "name": "stdout"
        },
        {
          "output_type": "stream",
          "text": [
            "/usr/local/lib/python3.6/dist-packages/ipykernel_launcher.py:1: SettingWithCopyWarning: \n",
            "A value is trying to be set on a copy of a slice from a DataFrame\n",
            "\n",
            "See the caveats in the documentation: http://pandas.pydata.org/pandas-docs/stable/user_guide/indexing.html#returning-a-view-versus-a-copy\n",
            "  \"\"\"Entry point for launching an IPython kernel.\n"
          ],
          "name": "stderr"
        }
      ]
    },
    {
      "cell_type": "markdown",
      "metadata": {
        "id": "W3mP9tpXbvRN",
        "colab_type": "text"
      },
      "source": [
        "**7)** A continuación **mostrá** cuantas instancias son las que descartaste a partir de quitar las que tenían valores nulos."
      ]
    },
    {
      "cell_type": "code",
      "metadata": {
        "id": "8FWOia9ObvRO",
        "colab_type": "code",
        "colab": {
          "base_uri": "https://localhost:8080/",
          "height": 357
        },
        "outputId": "22cc8608-01ac-4e6c-ff9b-d3ae0ec14c91"
      },
      "source": [
        "# Mostrá en esta celda la cantidad de instancias descartadas\n",
        "a=17888\n",
        "b=11975\n",
        "c=a-b\n",
        "print(\"La cantidad de instancias descartadas fueron: \", str(c),\",\",\"a continuacion se muestra la cantidad de instancias que se mantienen en el dataframe: \", \"11975\", \"\\n\")\n",
        "df_filtered.count()"
      ],
      "execution_count": null,
      "outputs": [
        {
          "output_type": "stream",
          "text": [
            "La cantidad de instancias descartadas fueron:  5913 , a continuacion se muestra la cantidad de instancias que se mantienen en el dataframe:  11975 \n",
            "\n"
          ],
          "name": "stdout"
        },
        {
          "output_type": "execute_result",
          "data": {
            "text/plain": [
              "created_on                 11975\n",
              "operation                  11975\n",
              "property_type              11975\n",
              "place_with_parent_names    11975\n",
              "lat-lon                    11975\n",
              "lat                        11975\n",
              "lon                        11975\n",
              "price_aprox_usd            11975\n",
              "surface_total_in_m2        11975\n",
              "surface_covered_in_m2      11975\n",
              "price_usd_per_m2           11975\n",
              "floor                       1863\n",
              "rooms                      11975\n",
              "expenses                    2272\n",
              "properati_url              11975\n",
              "barrio                     11975\n",
              "comuna                     11975\n",
              "dtype: int64"
            ]
          },
          "metadata": {
            "tags": []
          },
          "execution_count": 145
        }
      ]
    },
    {
      "cell_type": "markdown",
      "metadata": {
        "id": "QtUX2k6sbvRS",
        "colab_type": "text"
      },
      "source": [
        "Posiblemente existan otros atributos con valores faltantes en el dataset, pero que no son de tanta importancia. \n",
        "\n",
        "**8) Mostrá** qué otros atributos tienen valores faltantes en el `dataframe`."
      ]
    },
    {
      "cell_type": "code",
      "metadata": {
        "id": "86NnLsbEbvRT",
        "colab_type": "code",
        "colab": {
          "base_uri": "https://localhost:8080/",
          "height": 323
        },
        "outputId": "247a88d6-24fb-46e6-b7d4-096a5e56159c"
      },
      "source": [
        "# Mostrá en esta celda los otros atributos con valores faltantes\n",
        "df_filtered.isna().sum(axis=0)"
      ],
      "execution_count": null,
      "outputs": [
        {
          "output_type": "execute_result",
          "data": {
            "text/plain": [
              "created_on                     0\n",
              "operation                      0\n",
              "property_type                  0\n",
              "place_with_parent_names        0\n",
              "lat-lon                        0\n",
              "lat                            0\n",
              "lon                            0\n",
              "price_aprox_usd                0\n",
              "surface_total_in_m2            0\n",
              "surface_covered_in_m2          0\n",
              "price_usd_per_m2               0\n",
              "floor                      10112\n",
              "rooms                          0\n",
              "expenses                    9703\n",
              "properati_url                  0\n",
              "barrio                         0\n",
              "comuna                         0\n",
              "dtype: int64"
            ]
          },
          "metadata": {
            "tags": []
          },
          "execution_count": 146
        }
      ]
    },
    {
      "cell_type": "markdown",
      "metadata": {
        "id": "l_SIDEafbvRX",
        "colab_type": "text"
      },
      "source": [
        "#### Desafío: planteá alguna estrategia posible para reemplazar los valores faltantes en el atributo `surface_total_in_m2`."
      ]
    },
    {
      "cell_type": "markdown",
      "metadata": {
        "id": "r_bqDWWFRRat",
        "colab_type": "text"
      },
      "source": [
        "Se propone llenar los datos faltantes con la mediana de surface_total_in_m2, ya que la media es suceptible ala cantidad de outliers que presenta el dataset"
      ]
    },
    {
      "cell_type": "code",
      "metadata": {
        "id": "TW3WRoXggB5-",
        "colab_type": "code",
        "colab": {
          "base_uri": "https://localhost:8080/",
          "height": 391
        },
        "outputId": "dd156dac-00db-46a9-c74f-7d1644753f1d"
      },
      "source": [
        "df_filtered[\"surface_total_in_m2\"].fillna(df_filtered.surface_total_in_m2.median())\n",
        "df_filtered.info()"
      ],
      "execution_count": null,
      "outputs": [
        {
          "output_type": "stream",
          "text": [
            "<class 'pandas.core.frame.DataFrame'>\n",
            "Int64Index: 11975 entries, 18 to 18978\n",
            "Data columns (total 17 columns):\n",
            "created_on                 11975 non-null datetime64[ns]\n",
            "operation                  11975 non-null object\n",
            "property_type              11975 non-null object\n",
            "place_with_parent_names    11975 non-null object\n",
            "lat-lon                    11975 non-null object\n",
            "lat                        11975 non-null float64\n",
            "lon                        11975 non-null float64\n",
            "price_aprox_usd            11975 non-null float64\n",
            "surface_total_in_m2        11975 non-null float64\n",
            "surface_covered_in_m2      11975 non-null float64\n",
            "price_usd_per_m2           11975 non-null float64\n",
            "floor                      1863 non-null float64\n",
            "rooms                      11975 non-null float64\n",
            "expenses                   2272 non-null float64\n",
            "properati_url              11975 non-null object\n",
            "barrio                     11975 non-null object\n",
            "comuna                     11975 non-null float64\n",
            "dtypes: datetime64[ns](1), float64(10), object(6)\n",
            "memory usage: 1.6+ MB\n"
          ],
          "name": "stdout"
        }
      ]
    },
    {
      "cell_type": "markdown",
      "metadata": {
        "id": "PPqfW3GfbvRY",
        "colab_type": "text"
      },
      "source": [
        "## Datos erróneos"
      ]
    },
    {
      "cell_type": "markdown",
      "metadata": {
        "id": "U0qCeGQfbvRa",
        "colab_type": "text"
      },
      "source": [
        "El siguiente paso es analizar errores que puede llegar a haber en el dataset. \n",
        "\n",
        "Por ejemplo, la **superficie total no puede ser menor que la cubierta**. Si esto sucede, podemos optar por eliminar esas filas o intentar corregir el problema. Veamos en primer lugar si esto sucede.\n",
        "\n",
        "**9) Mostrá** cuantas instancias existen que tengan el problema de este dato erróneo y guardalas en una variable llamada `wrong_surface_rows`"
      ]
    },
    {
      "cell_type": "code",
      "metadata": {
        "id": "ZPyqzlcebvRb",
        "colab_type": "code",
        "colab": {
          "base_uri": "https://localhost:8080/",
          "height": 187
        },
        "outputId": "1a882180-7e4a-4652-9e5f-a05f5512b0d8"
      },
      "source": [
        "# Mostrá en esta celda cuántas instancias tienen errores en la superficie\n",
        "wrong_surface_rows = (df_filtered[\"surface_total_in_m2\"]) < (df_filtered[\"surface_covered_in_m2\"])\n",
        "df_filtered[wrong_surface_rows].index\n",
        "\n",
        "#en total son 112 instancias que tienen el dato errado"
      ],
      "execution_count": null,
      "outputs": [
        {
          "output_type": "execute_result",
          "data": {
            "text/plain": [
              "Int64Index([  106,   153,   935,  1174,  1176,  1317,  1547,  2300,  2314,\n",
              "             4961,  5012,  5091,  5349,  5800,  5867,  5942,  6297,  6373,\n",
              "             6519,  6797,  6799,  6806,  6846,  6969,  7289,  7310,  7676,\n",
              "             7736,  7808,  9085,  9163, 10175, 10427, 10480, 10553, 10811,\n",
              "            10825, 10858, 10894, 10903, 11607, 11777, 12195, 12458, 12485,\n",
              "            12514, 12543, 12844, 12889, 12943, 13065, 13654, 13655, 14246,\n",
              "            14262, 14427, 14428, 15826, 15867, 16035, 16116, 16553, 16595,\n",
              "            17081, 17128, 17461, 17474, 17541, 17731, 18003, 18153, 18694,\n",
              "            18765],\n",
              "           dtype='int64')"
            ]
          },
          "metadata": {
            "tags": []
          },
          "execution_count": 148
        }
      ]
    },
    {
      "cell_type": "markdown",
      "metadata": {
        "id": "l_1wKXikbvRg",
        "colab_type": "text"
      },
      "source": [
        "Proponemos no borrar estas instancias erróneas, sino intercambiar los valores de **superficie total** con **superficie cubierta** en caso de que se cumpla la condición mencionada."
      ]
    },
    {
      "cell_type": "code",
      "metadata": {
        "id": "sS63GdXBbvRi",
        "colab_type": "code",
        "colab": {}
      },
      "source": [
        "df_filtered.at[wrong_surface_rows.index, \"surface_total_in_m2\"] = wrong_surface_rows.surface_covered_in_m2\n",
        "df_filtered.at[wrong_surface_rows.index, \"surface_covered_in_m2\"] = wrong_surface_rows.surface_total_in_m2"
      ],
      "execution_count": null,
      "outputs": []
    },
    {
      "cell_type": "markdown",
      "metadata": {
        "id": "ZzqY3HYobvRm",
        "colab_type": "text"
      },
      "source": [
        "Por otro lado, sucede que las inmobiliarias cuando no cuentan con las coordenadas reales de las propiedades utilizan valores que no son correctos. Por ejemplo, el punto centro de cada barrio o puntos de interés como el Obelisco. Esto puede afectar el análisis relacionado con la ubicación de cada propiedad.\n",
        "\n",
        "Veamos en primer lugar si hay coordenadas que se repiten."
      ]
    },
    {
      "cell_type": "code",
      "metadata": {
        "id": "I0IUUgDAbvRn",
        "colab_type": "code",
        "colab": {
          "base_uri": "https://localhost:8080/",
          "height": 221
        },
        "outputId": "606ff7c6-64ed-45a7-8dec-b71ec8cd0309"
      },
      "source": [
        "conteo_puntos = df_filtered.groupby(['lat', 'lon']).size()\n",
        "conteo_puntos[conteo_puntos > 1].sort_values(ascending=False).head(10)"
      ],
      "execution_count": null,
      "outputs": [
        {
          "output_type": "execute_result",
          "data": {
            "text/plain": [
              "lat         lon       \n",
              "-34.589546  -58.397364    149\n",
              "-34.571150  -58.423297    118\n",
              "-34.562084  -58.456686     77\n",
              "-34.620928  -58.445874     45\n",
              "-34.609821  -58.392606     36\n",
              "-34.597679  -58.443019     31\n",
              "-34.617719  -58.362056     31\n",
              "-34.621184  -58.373116     31\n",
              "-34.610122  -58.405941     31\n",
              "-34.598647  -58.439018     29\n",
              "dtype: int64"
            ]
          },
          "metadata": {
            "tags": []
          },
          "execution_count": 149
        }
      ]
    },
    {
      "cell_type": "markdown",
      "metadata": {
        "id": "XD2YiGZ4bvRs",
        "colab_type": "text"
      },
      "source": [
        "Por ejemplo, para el caso del tercer punto, se puede verificar que corresponde a la esquina de Av. Cabildo y Juramento.\n",
        "Nos quedamos entonces con las propiedades con coordenadas que se repitan hasta 5 veces."
      ]
    },
    {
      "cell_type": "code",
      "metadata": {
        "id": "U0rGdP0AbvRu",
        "colab_type": "code",
        "colab": {}
      },
      "source": [
        "conteo_puntos.name = 'conteo' \n",
        "\n",
        "df_filtered = df_filtered.join(conteo_puntos, on=['lat', 'lon'])\n",
        "\n",
        "df_filtered = df_filtered[df_filtered.conteo <= 5]\n"
      ],
      "execution_count": null,
      "outputs": []
    },
    {
      "cell_type": "markdown",
      "metadata": {
        "id": "aa8DaDpQbvR0",
        "colab_type": "text"
      },
      "source": [
        "Eliminamos el atributo `conteo` dado que ya no nos sirve."
      ]
    },
    {
      "cell_type": "code",
      "metadata": {
        "id": "UYpHkHttbvR1",
        "colab_type": "code",
        "colab": {
          "base_uri": "https://localhost:8080/",
          "height": 230
        },
        "outputId": "60cac5d8-85f2-49eb-f0c7-d0cd01fbcb9c"
      },
      "source": [
        "df_filtered.drop('conteo', inplace=True, axis=1)\n",
        "df_filtered.head(3)"
      ],
      "execution_count": null,
      "outputs": [
        {
          "output_type": "execute_result",
          "data": {
            "text/html": [
              "<div>\n",
              "<style scoped>\n",
              "    .dataframe tbody tr th:only-of-type {\n",
              "        vertical-align: middle;\n",
              "    }\n",
              "\n",
              "    .dataframe tbody tr th {\n",
              "        vertical-align: top;\n",
              "    }\n",
              "\n",
              "    .dataframe thead th {\n",
              "        text-align: right;\n",
              "    }\n",
              "</style>\n",
              "<table border=\"1\" class=\"dataframe\">\n",
              "  <thead>\n",
              "    <tr style=\"text-align: right;\">\n",
              "      <th></th>\n",
              "      <th>created_on</th>\n",
              "      <th>operation</th>\n",
              "      <th>property_type</th>\n",
              "      <th>place_with_parent_names</th>\n",
              "      <th>lat-lon</th>\n",
              "      <th>lat</th>\n",
              "      <th>lon</th>\n",
              "      <th>price_aprox_usd</th>\n",
              "      <th>surface_total_in_m2</th>\n",
              "      <th>surface_covered_in_m2</th>\n",
              "      <th>price_usd_per_m2</th>\n",
              "      <th>floor</th>\n",
              "      <th>rooms</th>\n",
              "      <th>expenses</th>\n",
              "      <th>properati_url</th>\n",
              "      <th>barrio</th>\n",
              "      <th>comuna</th>\n",
              "    </tr>\n",
              "  </thead>\n",
              "  <tbody>\n",
              "    <tr>\n",
              "      <th>18</th>\n",
              "      <td>2017-08-29</td>\n",
              "      <td>sell</td>\n",
              "      <td>apartment</td>\n",
              "      <td>|Argentina|Capital Federal|Palermo|</td>\n",
              "      <td>-34.588912403,-58.4134942185</td>\n",
              "      <td>-34.588912</td>\n",
              "      <td>-58.413494</td>\n",
              "      <td>340000.0</td>\n",
              "      <td>130.0</td>\n",
              "      <td>120.0</td>\n",
              "      <td>2615.384615</td>\n",
              "      <td>NaN</td>\n",
              "      <td>4.0</td>\n",
              "      <td>8000.0</td>\n",
              "      <td>https://www.properati.com.ar/1dzv6_venta_departamento_palermo_guemes_3600_balcon_suite_jardin_lavadero_luminoso_lujoso_dependencias_placard_doble-circulacion_subte-linea-d_luisio-propiedades-suc-virrey-del-pino-2378</td>\n",
              "      <td>PALERMO</td>\n",
              "      <td>14.0</td>\n",
              "    </tr>\n",
              "    <tr>\n",
              "      <th>19</th>\n",
              "      <td>2017-08-29</td>\n",
              "      <td>sell</td>\n",
              "      <td>apartment</td>\n",
              "      <td>|Argentina|Capital Federal|Palermo|</td>\n",
              "      <td>-34.5770327,-58.4233675</td>\n",
              "      <td>-34.577033</td>\n",
              "      <td>-58.423368</td>\n",
              "      <td>222000.0</td>\n",
              "      <td>52.0</td>\n",
              "      <td>48.0</td>\n",
              "      <td>4269.230769</td>\n",
              "      <td>NaN</td>\n",
              "      <td>1.0</td>\n",
              "      <td>NaN</td>\n",
              "      <td>https://www.properati.com.ar/1e05k_venta_departamento_palermo_juncal-al-4500_gimnasio_jardin_lavadero_parrilla_piscina_sum_aire-acondicionado_subte-linea-h_subte-linea-c_deptos-temporarios</td>\n",
              "      <td>PALERMO</td>\n",
              "      <td>14.0</td>\n",
              "    </tr>\n",
              "    <tr>\n",
              "      <th>22</th>\n",
              "      <td>2017-08-30</td>\n",
              "      <td>sell</td>\n",
              "      <td>house</td>\n",
              "      <td>|Argentina|Capital Federal|Palermo|Palermo Hollywood|</td>\n",
              "      <td>-34.5793535,-58.4364489</td>\n",
              "      <td>-34.579354</td>\n",
              "      <td>-58.436449</td>\n",
              "      <td>1200000.0</td>\n",
              "      <td>532.0</td>\n",
              "      <td>334.0</td>\n",
              "      <td>2255.639098</td>\n",
              "      <td>NaN</td>\n",
              "      <td>6.0</td>\n",
              "      <td>NaN</td>\n",
              "      <td>https://www.properati.com.ar/1e1ve_venta_casa_palermo-hollywood_jardin_lavadero_piscina_luminoso_vista_garage_nexo-propiedades_h0z</td>\n",
              "      <td>PALERMO</td>\n",
              "      <td>14.0</td>\n",
              "    </tr>\n",
              "  </tbody>\n",
              "</table>\n",
              "</div>"
            ],
            "text/plain": [
              "   created_on operation property_type  \\\n",
              "18 2017-08-29      sell     apartment   \n",
              "19 2017-08-29      sell     apartment   \n",
              "22 2017-08-30      sell         house   \n",
              "\n",
              "                                  place_with_parent_names  \\\n",
              "18                    |Argentina|Capital Federal|Palermo|   \n",
              "19                    |Argentina|Capital Federal|Palermo|   \n",
              "22  |Argentina|Capital Federal|Palermo|Palermo Hollywood|   \n",
              "\n",
              "                         lat-lon        lat        lon  price_aprox_usd  \\\n",
              "18  -34.588912403,-58.4134942185 -34.588912 -58.413494         340000.0   \n",
              "19       -34.5770327,-58.4233675 -34.577033 -58.423368         222000.0   \n",
              "22       -34.5793535,-58.4364489 -34.579354 -58.436449        1200000.0   \n",
              "\n",
              "    surface_total_in_m2  surface_covered_in_m2  price_usd_per_m2  floor  \\\n",
              "18                130.0                  120.0       2615.384615    NaN   \n",
              "19                 52.0                   48.0       4269.230769    NaN   \n",
              "22                532.0                  334.0       2255.639098    NaN   \n",
              "\n",
              "    rooms  expenses  \\\n",
              "18    4.0    8000.0   \n",
              "19    1.0       NaN   \n",
              "22    6.0       NaN   \n",
              "\n",
              "                                                                                                                                                                                                              properati_url  \\\n",
              "18  https://www.properati.com.ar/1dzv6_venta_departamento_palermo_guemes_3600_balcon_suite_jardin_lavadero_luminoso_lujoso_dependencias_placard_doble-circulacion_subte-linea-d_luisio-propiedades-suc-virrey-del-pino-2378   \n",
              "19                             https://www.properati.com.ar/1e05k_venta_departamento_palermo_juncal-al-4500_gimnasio_jardin_lavadero_parrilla_piscina_sum_aire-acondicionado_subte-linea-h_subte-linea-c_deptos-temporarios   \n",
              "22                                                                                       https://www.properati.com.ar/1e1ve_venta_casa_palermo-hollywood_jardin_lavadero_piscina_luminoso_vista_garage_nexo-propiedades_h0z   \n",
              "\n",
              "     barrio  comuna  \n",
              "18  PALERMO    14.0  \n",
              "19  PALERMO    14.0  \n",
              "22  PALERMO    14.0  "
            ]
          },
          "metadata": {
            "tags": []
          },
          "execution_count": 151
        }
      ]
    },
    {
      "cell_type": "markdown",
      "metadata": {
        "id": "L7RuUKHebvR5",
        "colab_type": "text"
      },
      "source": [
        "## Estudiando los barrios"
      ]
    },
    {
      "cell_type": "markdown",
      "metadata": {
        "id": "U5y7Y_q6bvR6",
        "colab_type": "text"
      },
      "source": [
        "### Barrios con más edificios y barrios con más casas\n",
        "Al saber qué barrios son los que tienen más cantidad de edificios en venta y cuáles son los que tienen más casas podemos darnos una idea de qué tipo de barrio es. Si es más residencial, con más población, poder adquisitivo, etc. \n",
        "Para eso vamos a empezar calculando los porcentajes de cada tipo de propiedad según el barrio."
      ]
    },
    {
      "cell_type": "code",
      "metadata": {
        "id": "iT7fRqmwbvR7",
        "colab_type": "code",
        "colab": {
          "base_uri": "https://localhost:8080/",
          "height": 102
        },
        "outputId": "9ac89699-3a35-481c-d66b-8a848df8d4bf"
      },
      "source": [
        "total_propiedades = df_filtered.groupby('barrio')['property_type'].count().values\n",
        "total_propiedades"
      ],
      "execution_count": null,
      "outputs": [
        {
          "output_type": "execute_result",
          "data": {
            "text/plain": [
              "array([  35,  480,  558,  136,  736,   94,   91,  585,  114,   76,  190,\n",
              "        152,  449,   91,  120,   80,  196,   81,   36,  273, 1599,   66,\n",
              "        113,   60,   66,   66,  210, 1027,  408,  178,  124,  273,  123,\n",
              "         72,   45,  385,  108,  184,   79,   66,   78,  107,   83,   28,\n",
              "          9,   47,   11,  335])"
            ]
          },
          "metadata": {
            "tags": []
          },
          "execution_count": 152
        }
      ]
    },
    {
      "cell_type": "code",
      "metadata": {
        "id": "ilTdfl8kbvR-",
        "colab_type": "code",
        "colab": {
          "base_uri": "https://localhost:8080/",
          "height": 1000
        },
        "outputId": "dd0c8a3f-11d3-4441-d01f-e8758ce39ff3"
      },
      "source": [
        "porcentaje_casas_ph = df_filtered[df_filtered.property_type.isin(['PH', 'house'])].groupby('barrio').count().property_type/total_propiedades\n",
        "porcentaje_edificios = df_filtered[df_filtered.property_type == 'apartment'].groupby('barrio').count().property_type/total_propiedades\n",
        "print(porcentaje_casas_ph, \"\\n\", porcentaje_edificios)"
      ],
      "execution_count": null,
      "outputs": [
        {
          "output_type": "stream",
          "text": [
            "barrio\n",
            "AGRONOMIA            0.457143\n",
            "ALMAGRO              0.131250\n",
            "BALVANERA            0.077061\n",
            "BARRACAS             0.323529\n",
            "BELGRANO             0.047554\n",
            "BOCA                 0.234043\n",
            "BOEDO                0.417582\n",
            "CABALLITO            0.140171\n",
            "CHACARITA            0.236842\n",
            "COGHLAN              0.276316\n",
            "COLEGIALES           0.147368\n",
            "CONSTITUCION         0.203947\n",
            "FLORES               0.200445\n",
            "FLORESTA             0.241758\n",
            "LINIERS              0.366667\n",
            "MATADEROS            0.612500\n",
            "MONSERRAT            0.061224\n",
            "MONTE CASTRO         0.469136\n",
            "NUEVA POMPEYA        0.472222\n",
            "NUEZ                 0.164835\n",
            "PALERMO              0.063164\n",
            "PARQUE AVELLANEDA    0.560606\n",
            "PARQUE CHACABUCO     0.451327\n",
            "PARQUE CHAS          0.150000\n",
            "PARQUE PATRICIOS     0.363636\n",
            "PATERNAL             0.378788\n",
            "PUERTO MADERO        0.004762\n",
            "RECOLETA             0.012658\n",
            "RETIRO               0.007353\n",
            "SAAVEDRA             0.314607\n",
            "SAN CRISTOBAL        0.185484\n",
            "SAN NICOLAS          0.010989\n",
            "SAN TELMO            0.146341\n",
            "VELEZ SARSFIELD      0.347222\n",
            "VERSALLES            0.622222\n",
            "VILLA CRESPO         0.171429\n",
            "VILLA DEL PARQUE     0.212963\n",
            "VILLA DEVOTO         0.478261\n",
            "VILLA GRAL. MITRE    0.265823\n",
            "VILLA LUGANO         0.439394\n",
            "VILLA LURO           0.333333\n",
            "VILLA ORTUZAR        0.242991\n",
            "VILLA PUEYRREDON     0.325301\n",
            "VILLA REAL           0.500000\n",
            "VILLA RIACHUELO      0.555556\n",
            "VILLA SANTA RITA     0.361702\n",
            "VILLA SOLDATI        0.181818\n",
            "VILLA URQUIZA        0.185075\n",
            "Name: property_type, dtype: float64 \n",
            " barrio\n",
            "AGRONOMIA            0.542857\n",
            "ALMAGRO              0.868750\n",
            "BALVANERA            0.922939\n",
            "BARRACAS             0.676471\n",
            "BELGRANO             0.952446\n",
            "BOCA                 0.765957\n",
            "BOEDO                0.582418\n",
            "CABALLITO            0.859829\n",
            "CHACARITA            0.763158\n",
            "COGHLAN              0.723684\n",
            "COLEGIALES           0.852632\n",
            "CONSTITUCION         0.796053\n",
            "FLORES               0.799555\n",
            "FLORESTA             0.758242\n",
            "LINIERS              0.633333\n",
            "MATADEROS            0.387500\n",
            "MONSERRAT            0.938776\n",
            "MONTE CASTRO         0.530864\n",
            "NUEVA POMPEYA        0.527778\n",
            "NUEZ                 0.835165\n",
            "PALERMO              0.936836\n",
            "PARQUE AVELLANEDA    0.439394\n",
            "PARQUE CHACABUCO     0.548673\n",
            "PARQUE CHAS          0.850000\n",
            "PARQUE PATRICIOS     0.636364\n",
            "PATERNAL             0.621212\n",
            "PUERTO MADERO        0.995238\n",
            "RECOLETA             0.987342\n",
            "RETIRO               0.992647\n",
            "SAAVEDRA             0.685393\n",
            "SAN CRISTOBAL        0.814516\n",
            "SAN NICOLAS          0.989011\n",
            "SAN TELMO            0.853659\n",
            "VELEZ SARSFIELD      0.652778\n",
            "VERSALLES            0.377778\n",
            "VILLA CRESPO         0.828571\n",
            "VILLA DEL PARQUE     0.787037\n",
            "VILLA DEVOTO         0.521739\n",
            "VILLA GRAL. MITRE    0.734177\n",
            "VILLA LUGANO         0.560606\n",
            "VILLA LURO           0.666667\n",
            "VILLA ORTUZAR        0.757009\n",
            "VILLA PUEYRREDON     0.674699\n",
            "VILLA REAL           0.500000\n",
            "VILLA RIACHUELO      0.444444\n",
            "VILLA SANTA RITA     0.638298\n",
            "VILLA SOLDATI        0.818182\n",
            "VILLA URQUIZA        0.814925\n",
            "Name: property_type, dtype: float64\n"
          ],
          "name": "stdout"
        }
      ]
    },
    {
      "cell_type": "code",
      "metadata": {
        "id": "1htOPE9zbvSC",
        "colab_type": "code",
        "colab": {
          "base_uri": "https://localhost:8080/",
          "height": 289
        },
        "outputId": "fad1d67a-beef-4c8b-ab42-5f7d61137891"
      },
      "source": [
        "print(\"Barrios con mayor porcentaje de edificios: \\n\", porcentaje_edificios.sort_values()[::-1][:5])\n",
        "print(\"Barrios con mayor porcentaje de casas y phs: \\n \", porcentaje_casas_ph.sort_values()[::-1][:5])"
      ],
      "execution_count": null,
      "outputs": [
        {
          "output_type": "stream",
          "text": [
            "Barrios con mayor porcentaje de edificios: \n",
            " barrio\n",
            "PUERTO MADERO    0.995238\n",
            "RETIRO           0.992647\n",
            "SAN NICOLAS      0.989011\n",
            "RECOLETA         0.987342\n",
            "BELGRANO         0.952446\n",
            "Name: property_type, dtype: float64\n",
            "Barrios con mayor porcentaje de casas y phs: \n",
            "  barrio\n",
            "VERSALLES            0.622222\n",
            "MATADEROS            0.612500\n",
            "PARQUE AVELLANEDA    0.560606\n",
            "VILLA RIACHUELO      0.555556\n",
            "VILLA REAL           0.500000\n",
            "Name: property_type, dtype: float64\n"
          ],
          "name": "stdout"
        }
      ]
    },
    {
      "cell_type": "markdown",
      "metadata": {
        "id": "ruFJPH5dbvSG",
        "colab_type": "text"
      },
      "source": [
        "Para darnos una idea de las diferencias entre los porcentajes de edificios y casas en estos barrios, vamos a graficarlos\n",
        "en forma de torta."
      ]
    },
    {
      "cell_type": "code",
      "metadata": {
        "id": "1nPZr091bvSH",
        "colab_type": "code",
        "colab": {
          "base_uri": "https://localhost:8080/",
          "height": 607
        },
        "outputId": "57305404-2d2c-417e-9375-308bd4b580f6"
      },
      "source": [
        "barrios_casas = porcentaje_casas_ph.sort_values()[::-1][:5].index\n",
        "barrios_edificios = porcentaje_edificios.sort_values()[::-1][:5].index\n",
        "fig, axs = plt.subplots(1,2,figsize=(14,7))\n",
        "df_filtered[df_filtered.barrio.isin(barrios_edificios)].property_type.value_counts().plot(x=None,y=None, kind='pie', startangle=30, ax=axs[0],autopct='%1.2f%%')\n",
        "df_filtered[df_filtered.barrio.isin(barrios_casas)].property_type.value_counts().plot(x=None,y=None, kind='pie', ax=axs[1],autopct='%1.2f%%')"
      ],
      "execution_count": null,
      "outputs": [
        {
          "output_type": "stream",
          "text": [
            "/usr/local/lib/python3.6/dist-packages/pandas/plotting/_matplotlib/tools.py:307: MatplotlibDeprecationWarning: \n",
            "The rowNum attribute was deprecated in Matplotlib 3.2 and will be removed two minor releases later. Use ax.get_subplotspec().rowspan.start instead.\n",
            "  layout[ax.rowNum, ax.colNum] = ax.get_visible()\n",
            "/usr/local/lib/python3.6/dist-packages/pandas/plotting/_matplotlib/tools.py:307: MatplotlibDeprecationWarning: \n",
            "The colNum attribute was deprecated in Matplotlib 3.2 and will be removed two minor releases later. Use ax.get_subplotspec().colspan.start instead.\n",
            "  layout[ax.rowNum, ax.colNum] = ax.get_visible()\n",
            "/usr/local/lib/python3.6/dist-packages/pandas/plotting/_matplotlib/tools.py:313: MatplotlibDeprecationWarning: \n",
            "The rowNum attribute was deprecated in Matplotlib 3.2 and will be removed two minor releases later. Use ax.get_subplotspec().rowspan.start instead.\n",
            "  if not layout[ax.rowNum + 1, ax.colNum]:\n",
            "/usr/local/lib/python3.6/dist-packages/pandas/plotting/_matplotlib/tools.py:313: MatplotlibDeprecationWarning: \n",
            "The colNum attribute was deprecated in Matplotlib 3.2 and will be removed two minor releases later. Use ax.get_subplotspec().colspan.start instead.\n",
            "  if not layout[ax.rowNum + 1, ax.colNum]:\n"
          ],
          "name": "stderr"
        },
        {
          "output_type": "execute_result",
          "data": {
            "text/plain": [
              "<matplotlib.axes._subplots.AxesSubplot at 0x7f706153ab00>"
            ]
          },
          "metadata": {
            "tags": []
          },
          "execution_count": 155
        },
        {
          "output_type": "display_data",
          "data": {
            "image/png": "[encoded data removed]",
            "text/plain": [
              "<Figure size 1008x504 with 2 Axes>"
            ]
          },
          "metadata": {
            "tags": []
          }
        }
      ]
    },
    {
      "cell_type": "markdown",
      "metadata": {
        "id": "21JR2qeWbvSM",
        "colab_type": "text"
      },
      "source": [
        "### Barrios más caros y más baratos"
      ]
    },
    {
      "cell_type": "markdown",
      "metadata": {
        "id": "Gac95mPYbvSN",
        "colab_type": "text"
      },
      "source": [
        "Veamos primero la distribución del precio por metro cuadrado para todo el dataset. De esta manera, vamos a remover valores que consideremos extremos.\n",
        "\n",
        "En el siguiente proyecto vamos a volver sobre este tema con más profundidad.\n",
        "\n",
        "**10)** Tomando el atributo `price_usd_per_m2` **calculá** su **mínimo**, **máximo**, **promedio (mean)**, **mediana (median)** y **desvío estándar (std)**"
      ]
    },
    {
      "cell_type": "code",
      "metadata": {
        "id": "qSsb_3juJC7P",
        "colab_type": "code",
        "colab": {
          "base_uri": "https://localhost:8080/",
          "height": 119
        },
        "outputId": "b98d9a82-df37-4a79-b828-e9c6b28cabcd"
      },
      "source": [
        "# Mostrá en esta celda los cálculos\n",
        "df_filtered.price_usd_per_m2.describe()[['min','max','mean','50%','std']] "
      ],
      "execution_count": null,
      "outputs": [
        {
          "output_type": "execute_result",
          "data": {
            "text/plain": [
              "min          0.958333\n",
              "max     142450.141026\n",
              "mean      2785.655144\n",
              "50%       2588.235294\n",
              "std       1997.772174\n",
              "Name: price_usd_per_m2, dtype: float64"
            ]
          },
          "metadata": {
            "tags": []
          },
          "execution_count": 156
        }
      ]
    },
    {
      "cell_type": "code",
      "metadata": {
        "id": "WpKCjPqzbvSO",
        "colab_type": "code",
        "colab": {
          "base_uri": "https://localhost:8080/",
          "height": 34
        },
        "outputId": "df264e7d-8ae4-4002-f619-00064254acd0"
      },
      "source": [
        "df_filtered[\"price_usd_per_m2\"].median()\n"
      ],
      "execution_count": null,
      "outputs": [
        {
          "output_type": "execute_result",
          "data": {
            "text/plain": [
              "2588.2352941176473"
            ]
          },
          "metadata": {
            "tags": []
          },
          "execution_count": 157
        }
      ]
    },
    {
      "cell_type": "markdown",
      "metadata": {
        "id": "7pMKx6bfbvSS",
        "colab_type": "text"
      },
      "source": [
        "También podemos calcular otros estadísticos como los cuartiles. \n",
        "\n",
        "**11) Mostrá** el **primer y tercer cuartil** y luego también el **rango intercuartilíco**"
      ]
    },
    {
      "cell_type": "code",
      "metadata": {
        "id": "cff11X3kbvST",
        "colab_type": "code",
        "colab": {
          "base_uri": "https://localhost:8080/",
          "height": 68
        },
        "outputId": "904a4b8f-1b86-4f0b-a1b5-4181124c8952"
      },
      "source": [
        "# Mostrá los cuartiles en esta celda\n",
        "\n",
        "df_filtered[\"price_usd_per_m2\"].quantile([0.25, 0.75])"
      ],
      "execution_count": null,
      "outputs": [
        {
          "output_type": "execute_result",
          "data": {
            "text/plain": [
              "0.25    2039.289915\n",
              "0.75    3203.982564\n",
              "Name: price_usd_per_m2, dtype: float64"
            ]
          },
          "metadata": {
            "tags": []
          },
          "execution_count": 158
        }
      ]
    },
    {
      "cell_type": "code",
      "metadata": {
        "id": "0sqaEIM8lXVP",
        "colab_type": "code",
        "colab": {
          "base_uri": "https://localhost:8080/",
          "height": 34
        },
        "outputId": "a8e3f6da-c5fc-4930-9db9-fb71f129866d"
      },
      "source": [
        "IQR = df_filtered[\"price_usd_per_m2\"].quantile(0.75) - df_filtered[\"price_usd_per_m2\"].quantile(0.25)\n",
        "print(IQR)"
      ],
      "execution_count": null,
      "outputs": [
        {
          "output_type": "stream",
          "text": [
            "1164.6926491683844\n"
          ],
          "name": "stdout"
        }
      ]
    },
    {
      "cell_type": "markdown",
      "metadata": {
        "id": "Ddrv1EHAbvSW",
        "colab_type": "text"
      },
      "source": [
        "### Quitando valores extremos\n",
        "Eliminemos aquellas observaciones cuyo precio por metro cuadrado este fuera de los percentiles 10 y 90. De este modo intentaremos remover valores extremos de una manera sencilla para tener un análisis más robusto."
      ]
    },
    {
      "cell_type": "code",
      "metadata": {
        "id": "niAA2b9JJnjY",
        "colab_type": "code",
        "colab": {
          "base_uri": "https://localhost:8080/",
          "height": 391
        },
        "outputId": "b863caec-0789-4ed7-f865-90ff7cbfe193"
      },
      "source": [
        "p10 = np.percentile(df_filtered.price_usd_per_m2, 10)\n",
        "p90 = np.percentile(df_filtered.price_usd_per_m2, 90)\n",
        "df_filtered = df_filtered[(df_filtered.price_usd_per_m2 >= p10) & (df_filtered.price_usd_per_m2 <= p90)]\n",
        "df_filtered.info()"
      ],
      "execution_count": null,
      "outputs": [
        {
          "output_type": "stream",
          "text": [
            "<class 'pandas.core.frame.DataFrame'>\n",
            "Int64Index: 8417 entries, 18 to 18963\n",
            "Data columns (total 17 columns):\n",
            "created_on                 8417 non-null datetime64[ns]\n",
            "operation                  8417 non-null object\n",
            "property_type              8417 non-null object\n",
            "place_with_parent_names    8417 non-null object\n",
            "lat-lon                    8417 non-null object\n",
            "lat                        8417 non-null float64\n",
            "lon                        8417 non-null float64\n",
            "price_aprox_usd            8417 non-null float64\n",
            "surface_total_in_m2        8417 non-null float64\n",
            "surface_covered_in_m2      8417 non-null float64\n",
            "price_usd_per_m2           8417 non-null float64\n",
            "floor                      1428 non-null float64\n",
            "rooms                      8417 non-null float64\n",
            "expenses                   1918 non-null float64\n",
            "properati_url              8417 non-null object\n",
            "barrio                     8417 non-null object\n",
            "comuna                     8417 non-null float64\n",
            "dtypes: datetime64[ns](1), float64(10), object(6)\n",
            "memory usage: 1.2+ MB\n"
          ],
          "name": "stdout"
        }
      ]
    },
    {
      "cell_type": "markdown",
      "metadata": {
        "id": "-OsJuOVhbvSb",
        "colab_type": "text"
      },
      "source": [
        "A partir de quitar estos valores van a cambiar los estadísticos que calculamos.\n",
        "\n",
        "**12) Volvé a calcular** los mismos estadísticos (min, max, promedio, etc) para ver los cambios.\n",
        "¿Por qué será que la **mediana** no cambia?\n",
        "\n",
        "R/ la mediana no cambia en este caso porque se cuenta con un cojunto de datos ordenados y con la misma distribución en cantidad antes y despues del filtro, ademas entendiendo que la mediana es una medida de posicion central y siempre buscará ubicarse con la mitad de los datos repartidos por encima y por debajo de ella misma. Finalmente por esta razón antes y despues del filtro el valor de la mediana sigue siendo igual."
      ]
    },
    {
      "cell_type": "code",
      "metadata": {
        "id": "32TSqXkHJ4Ig",
        "colab_type": "code",
        "colab": {
          "base_uri": "https://localhost:8080/",
          "height": 119
        },
        "outputId": "68b59ede-0787-4016-c54c-09f90cc3ddb4"
      },
      "source": [
        "# Realizá los calculos en esta celda\n",
        "df_filtered.price_usd_per_m2.describe()[['min','max','mean','50%','std']] "
      ],
      "execution_count": null,
      "outputs": [
        {
          "output_type": "execute_result",
          "data": {
            "text/plain": [
              "min     1552.941176\n",
              "max     4095.890411\n",
              "mean    2632.212569\n",
              "50%     2588.235294\n",
              "std      607.715139\n",
              "Name: price_usd_per_m2, dtype: float64"
            ]
          },
          "metadata": {
            "tags": []
          },
          "execution_count": 161
        }
      ]
    },
    {
      "cell_type": "code",
      "metadata": {
        "id": "u284TWbybvSd",
        "colab_type": "code",
        "colab": {
          "base_uri": "https://localhost:8080/",
          "height": 34
        },
        "outputId": "c23a8c9d-fee6-4965-d207-fc5b9cb8718c"
      },
      "source": [
        "\n",
        "df_filtered[\"price_usd_per_m2\"].median()"
      ],
      "execution_count": null,
      "outputs": [
        {
          "output_type": "execute_result",
          "data": {
            "text/plain": [
              "2588.2352941176473"
            ]
          },
          "metadata": {
            "tags": []
          },
          "execution_count": 162
        }
      ]
    },
    {
      "cell_type": "markdown",
      "metadata": {
        "id": "N16aeVW9bvSg",
        "colab_type": "text"
      },
      "source": [
        "Vamos a graficar ahora los barrios según el precio por metro cuadrado."
      ]
    },
    {
      "cell_type": "code",
      "metadata": {
        "id": "X7WKYeQcbvSh",
        "colab_type": "code",
        "colab": {
          "base_uri": "https://localhost:8080/",
          "height": 613
        },
        "outputId": "3d5be004-127a-4390-e56a-2cdb8289e6f1"
      },
      "source": [
        "plt.xticks(rotation = 90)\n",
        "barrios = df_filtered.groupby('barrio').mean().sort_values('price_usd_per_m2', ascending=False).index\n",
        "sns.barplot(x=\"barrio\", y=\"price_usd_per_m2\", order=barrios, data=df_filtered);"
      ],
      "execution_count": null,
      "outputs": [
        {
          "output_type": "display_data",
          "data": {
            "image/png": "[encoded data removed]",
            "text/plain": [
              "<Figure size 864x576 with 1 Axes>"
            ]
          },
          "metadata": {
            "tags": []
          }
        }
      ]
    },
    {
      "cell_type": "markdown",
      "metadata": {
        "id": "8gMB06tmbvSk",
        "colab_type": "text"
      },
      "source": [
        "#### Más caros"
      ]
    },
    {
      "cell_type": "code",
      "metadata": {
        "id": "qT2Ph8EUbvSm",
        "colab_type": "code",
        "colab": {
          "base_uri": "https://localhost:8080/",
          "height": 235
        },
        "outputId": "e92120ef-727b-491b-f9fa-3c4d6872ab4b"
      },
      "source": [
        "table = pd.pivot_table(df, values='price_usd_per_m2', index=['barrio'], aggfunc=np.mean)\n",
        "mas_caros = table.sort_values('price_usd_per_m2', ascending=False).iloc[:5]\n",
        "mas_caros"
      ],
      "execution_count": null,
      "outputs": [
        {
          "output_type": "execute_result",
          "data": {
            "text/html": [
              "<div>\n",
              "<style scoped>\n",
              "    .dataframe tbody tr th:only-of-type {\n",
              "        vertical-align: middle;\n",
              "    }\n",
              "\n",
              "    .dataframe tbody tr th {\n",
              "        vertical-align: top;\n",
              "    }\n",
              "\n",
              "    .dataframe thead th {\n",
              "        text-align: right;\n",
              "    }\n",
              "</style>\n",
              "<table border=\"1\" class=\"dataframe\">\n",
              "  <thead>\n",
              "    <tr style=\"text-align: right;\">\n",
              "      <th></th>\n",
              "      <th>price_usd_per_m2</th>\n",
              "    </tr>\n",
              "    <tr>\n",
              "      <th>barrio</th>\n",
              "      <th></th>\n",
              "    </tr>\n",
              "  </thead>\n",
              "  <tbody>\n",
              "    <tr>\n",
              "      <th>PUERTO MADERO</th>\n",
              "      <td>6156.633183</td>\n",
              "    </tr>\n",
              "    <tr>\n",
              "      <th>PALERMO</th>\n",
              "      <td>3632.057960</td>\n",
              "    </tr>\n",
              "    <tr>\n",
              "      <th>RETIRO</th>\n",
              "      <td>3417.635657</td>\n",
              "    </tr>\n",
              "    <tr>\n",
              "      <th>RECOLETA</th>\n",
              "      <td>3346.748987</td>\n",
              "    </tr>\n",
              "    <tr>\n",
              "      <th>BELGRANO</th>\n",
              "      <td>3338.725206</td>\n",
              "    </tr>\n",
              "  </tbody>\n",
              "</table>\n",
              "</div>"
            ],
            "text/plain": [
              "               price_usd_per_m2\n",
              "barrio                         \n",
              "PUERTO MADERO       6156.633183\n",
              "PALERMO             3632.057960\n",
              "RETIRO              3417.635657\n",
              "RECOLETA            3346.748987\n",
              "BELGRANO            3338.725206"
            ]
          },
          "metadata": {
            "tags": []
          },
          "execution_count": 164
        }
      ]
    },
    {
      "cell_type": "markdown",
      "metadata": {
        "id": "Xcqv9xOHbvSr",
        "colab_type": "text"
      },
      "source": [
        "#### Más baratos"
      ]
    },
    {
      "cell_type": "code",
      "metadata": {
        "id": "rIzFr3kXbvSs",
        "colab_type": "code",
        "colab": {
          "base_uri": "https://localhost:8080/",
          "height": 235
        },
        "outputId": "31817c01-1523-4e49-dbd9-57b2ad2595e3"
      },
      "source": [
        "table = pd.pivot_table(df, values='price_usd_per_m2', index=['barrio'], aggfunc=np.mean)\n",
        "mas_baratos = table.sort_values('price_usd_per_m2', ascending=True).iloc[:5]\n",
        "mas_baratos"
      ],
      "execution_count": null,
      "outputs": [
        {
          "output_type": "execute_result",
          "data": {
            "text/html": [
              "<div>\n",
              "<style scoped>\n",
              "    .dataframe tbody tr th:only-of-type {\n",
              "        vertical-align: middle;\n",
              "    }\n",
              "\n",
              "    .dataframe tbody tr th {\n",
              "        vertical-align: top;\n",
              "    }\n",
              "\n",
              "    .dataframe thead th {\n",
              "        text-align: right;\n",
              "    }\n",
              "</style>\n",
              "<table border=\"1\" class=\"dataframe\">\n",
              "  <thead>\n",
              "    <tr style=\"text-align: right;\">\n",
              "      <th></th>\n",
              "      <th>price_usd_per_m2</th>\n",
              "    </tr>\n",
              "    <tr>\n",
              "      <th>barrio</th>\n",
              "      <th></th>\n",
              "    </tr>\n",
              "  </thead>\n",
              "  <tbody>\n",
              "    <tr>\n",
              "      <th>VILLA SOLDATI</th>\n",
              "      <td>920.825753</td>\n",
              "    </tr>\n",
              "    <tr>\n",
              "      <th>VILLA LUGANO</th>\n",
              "      <td>1179.846071</td>\n",
              "    </tr>\n",
              "    <tr>\n",
              "      <th>VILLA RIACHUELO</th>\n",
              "      <td>1274.809950</td>\n",
              "    </tr>\n",
              "    <tr>\n",
              "      <th>PARQUE AVELLANEDA</th>\n",
              "      <td>1386.260577</td>\n",
              "    </tr>\n",
              "    <tr>\n",
              "      <th>NUEVA POMPEYA</th>\n",
              "      <td>1539.235869</td>\n",
              "    </tr>\n",
              "  </tbody>\n",
              "</table>\n",
              "</div>"
            ],
            "text/plain": [
              "                   price_usd_per_m2\n",
              "barrio                             \n",
              "VILLA SOLDATI            920.825753\n",
              "VILLA LUGANO            1179.846071\n",
              "VILLA RIACHUELO         1274.809950\n",
              "PARQUE AVELLANEDA       1386.260577\n",
              "NUEVA POMPEYA           1539.235869"
            ]
          },
          "metadata": {
            "tags": []
          },
          "execution_count": 165
        }
      ]
    },
    {
      "cell_type": "markdown",
      "metadata": {
        "id": "JO5kW4thbvSw",
        "colab_type": "text"
      },
      "source": [
        "## Graficando propiedades de los barrios\n",
        "\n",
        "Ahora que ya sabemos cuales son los barrios más caros y cuales son los más baratos vamos a ver algunas comparaciones gráficas para entender mejor sus diferencias en diferentes atributos del dataset. Vamos a ver las distribuciones según:\n",
        "- Superficie total en m2\n",
        "- Cuartos totales \n",
        "- Precio en dolares por m2"
      ]
    },
    {
      "cell_type": "code",
      "metadata": {
        "id": "4HBXvX9TbvSw",
        "colab_type": "code",
        "colab": {}
      },
      "source": [
        "barrios_caros = mas_caros.index \n",
        "barrios_baratos = mas_baratos.index"
      ],
      "execution_count": null,
      "outputs": []
    },
    {
      "cell_type": "code",
      "metadata": {
        "id": "gwCuBXFvbvS0",
        "colab_type": "code",
        "colab": {
          "base_uri": "https://localhost:8080/",
          "height": 519
        },
        "outputId": "4ab91f56-e3bf-45ac-ae7a-e28082907b77"
      },
      "source": [
        "g = sns.distplot(df_filtered[df_filtered.barrio.isin(barrios_baratos)].surface_total_in_m2, label=\"Barrios baratos\")\n",
        "sns.distplot(df_filtered[df_filtered.barrio.isin(barrios_caros)].surface_total_in_m2, label=\"Barrios caros\")\n",
        "g.set_xlim(0, 400)\n",
        "plt.legend()"
      ],
      "execution_count": null,
      "outputs": [
        {
          "output_type": "execute_result",
          "data": {
            "text/plain": [
              "<matplotlib.legend.Legend at 0x7f705fb2e668>"
            ]
          },
          "metadata": {
            "tags": []
          },
          "execution_count": 167
        },
        {
          "output_type": "display_data",
          "data": {
            "image/png": "[encoded data removed]",
            "text/plain": [
              "<Figure size 864x576 with 1 Axes>"
            ]
          },
          "metadata": {
            "tags": []
          }
        }
      ]
    },
    {
      "cell_type": "code",
      "metadata": {
        "id": "VDCX_4GybvS4",
        "colab_type": "code",
        "colab": {
          "base_uri": "https://localhost:8080/",
          "height": 519
        },
        "outputId": "c5734aec-4647-4786-d9ef-ee7c1eb97ca6"
      },
      "source": [
        "g = sns.distplot(df_filtered[df_filtered.barrio.isin(barrios_baratos)].rooms, label=\"Barrios baratos\")\n",
        "sns.distplot(df_filtered[df_filtered.barrio.isin(barrios_caros)].rooms, label=\"Barrios caros\")\n",
        "g.set_xlim(0, 10)\n",
        "plt.legend()"
      ],
      "execution_count": null,
      "outputs": [
        {
          "output_type": "execute_result",
          "data": {
            "text/plain": [
              "<matplotlib.legend.Legend at 0x7f705fa81d30>"
            ]
          },
          "metadata": {
            "tags": []
          },
          "execution_count": 168
        },
        {
          "output_type": "display_data",
          "data": {
            "image/png": "[encoded data removed]",
            "text/plain": [
              "<Figure size 864x576 with 1 Axes>"
            ]
          },
          "metadata": {
            "tags": []
          }
        }
      ]
    },
    {
      "cell_type": "code",
      "metadata": {
        "id": "_6yhcwtxbvS6",
        "colab_type": "code",
        "colab": {
          "base_uri": "https://localhost:8080/",
          "height": 519
        },
        "outputId": "c0c9ba5b-7978-4586-eb0e-07afce211e67"
      },
      "source": [
        "g = sns.distplot(df_filtered[df_filtered.barrio.isin(barrios_baratos)].price_usd_per_m2, label=\"Barrios baratos\")\n",
        "sns.distplot(df_filtered[df_filtered.barrio.isin(barrios_caros)].price_usd_per_m2, label=\"Barrios caros\")\n",
        "plt.legend()"
      ],
      "execution_count": null,
      "outputs": [
        {
          "output_type": "execute_result",
          "data": {
            "text/plain": [
              "<matplotlib.legend.Legend at 0x7f70605bf240>"
            ]
          },
          "metadata": {
            "tags": []
          },
          "execution_count": 169
        },
        {
          "output_type": "display_data",
          "data": {
            "image/png": "[encoded data removed]",
            "text/plain": [
              "<Figure size 864x576 with 1 Axes>"
            ]
          },
          "metadata": {
            "tags": []
          }
        }
      ]
    },
    {
      "cell_type": "markdown",
      "metadata": {
        "id": "EMlwd-lQbvS-",
        "colab_type": "text"
      },
      "source": [
        "### Barrios que quieren ser otros"
      ]
    },
    {
      "cell_type": "markdown",
      "metadata": {
        "id": "8rlhlDI-bvTA",
        "colab_type": "text"
      },
      "source": [
        "Basado en información de mercado, desde el portal Properati han señalado que las inmobiliarias suelen publicar las propiedades ubicadas en barrios que no necesariamente se corresponden con la ubicación geográfica real. Según mencionan en la nota ([blog)](http://blog.properati.com.ar/barrios-que-quieren-ser-otros/), esto corresponde a una lógica comercial en el corredor norte y a usos y costumbres en zona oeste.\n",
        "\n",
        "Analicemos qué sucede para nuestro dataset."
      ]
    },
    {
      "cell_type": "markdown",
      "metadata": {
        "id": "qFqmtJLgbvTC",
        "colab_type": "text"
      },
      "source": [
        "Dada la estructura del atributo `place_with_parent_names`, en primer lugar vamos a extraer el campo asociado al barrio publicado para poder comparar con el que surge de la cartografía oficial. Esto lo vamos a agregar en una nueva columna llamada `barrio_publicado`. \n",
        "\n",
        "De este modo, lo que vamos a analizar es como se relacionan las columnas `barrio` y `barrio publicado`. Si efectivamente hay barrios que quieren ser otros, esperaríamos ver propiedades ubicadas en geográficamente en un barrio distinto al que dice la publicación. Por ejemplo, si una propiedad está ubicada (dadas sus coordenadas) en Villa Crespo pero en la publicación dice Palermo, entonces decimos que hay indicios que Villa Crespo quiere ser Palermo.\n",
        "\n",
        "Viendo la estructura de este atributo, podemos notar que se compone por una sequencia de lugares separados por `|`. Por ejemplo, en `|Argentina|Capital Federal|Palermo|` vemos que primero está el país, luego la ciudad, luego el barrio y en algunos casos hay una jerarquía más, relacionado con zonas dentro del barrio (como Palermo Soho dentro de Palermo). \n",
        "\n",
        "De este modo, una estrategia posible para resolver esto es separar las jerarquías por `|` y extraer el elemento asociado al barrio. Por ejemplo, para `|Argentina|Capital Federal|Palermo|` queda `['', 'Argentina', 'Capital Federal', 'Palermo', '']`. Extrayendo el tercer elemento obtendremos el barrio independientemente de si hay lugares luego en la jerarquía. Aquellos que no tengan barrio no serán considerados puesto que estarían ubicados en Capital Federal y no sería informativo.\n",
        "\n",
        "Lo pasamos a mayúsculas y quitamos las tildes para poder comparar con el barrio oficial."
      ]
    },
    {
      "cell_type": "code",
      "metadata": {
        "id": "4PMG5kRVbvTG",
        "colab_type": "code",
        "colab": {
          "base_uri": "https://localhost:8080/",
          "height": 34
        },
        "outputId": "faf27a2c-22c4-4d7b-fe84-0af990d3abca"
      },
      "source": [
        "df_filtered['place_with_parent_names'].apply(lambda x: len(x.split(\"|\"))).unique()"
      ],
      "execution_count": null,
      "outputs": [
        {
          "output_type": "execute_result",
          "data": {
            "text/plain": [
              "array([5, 6, 4])"
            ]
          },
          "metadata": {
            "tags": []
          },
          "execution_count": 170
        }
      ]
    },
    {
      "cell_type": "markdown",
      "metadata": {
        "id": "t2nx7QxVbvTM",
        "colab_type": "text"
      },
      "source": [
        "Como algunos tienen 4 elementos, debemos quitarlos."
      ]
    },
    {
      "cell_type": "code",
      "metadata": {
        "id": "Tx4mdcNebvTO",
        "colab_type": "code",
        "colab": {}
      },
      "source": [
        "split_place_filter = df_filtered['place_with_parent_names'].apply(lambda x: len(x.split(\"|\"))!=4)\n",
        "df_filtered = df_filtered.loc[split_place_filter]"
      ],
      "execution_count": null,
      "outputs": []
    },
    {
      "cell_type": "code",
      "metadata": {
        "id": "xd_Tau0fbvTT",
        "colab_type": "code",
        "colab": {}
      },
      "source": [
        "df_filtered['barrio_publicado'] = df_filtered['place_with_parent_names'].apply( lambda x: x.split(\"|\")[3].upper())\n",
        "df_filtered['barrio_publicado'] = df_filtered['barrio_publicado'].str.normalize('NFKD').str.encode('ascii', errors='ignore').str.decode('utf-8')"
      ],
      "execution_count": null,
      "outputs": []
    },
    {
      "cell_type": "markdown",
      "metadata": {
        "id": "AuhNJ-zmbvTa",
        "colab_type": "text"
      },
      "source": [
        "Comparemos entonces el barrio publicado con el real. Nos vamos a quedar con aquellas propiedades donde nos coincidan para luego hacer el conteo por barrio."
      ]
    },
    {
      "cell_type": "code",
      "metadata": {
        "id": "4SfahUphbvTb",
        "colab_type": "code",
        "colab": {}
      },
      "source": [
        "barrios_match = (df_filtered['barrio_publicado'] != df_filtered['barrio'])\n",
        "df_filtered_barrio_not_match = df_filtered.loc[barrios_match]"
      ],
      "execution_count": null,
      "outputs": []
    },
    {
      "cell_type": "markdown",
      "metadata": {
        "id": "IKyB5fePbvTf",
        "colab_type": "text"
      },
      "source": [
        "Con una tabla de doble entrada podemos identificar para cada barrio cuál es al que más quiere parecerse."
      ]
    },
    {
      "cell_type": "code",
      "metadata": {
        "id": "Px1zve2PbvTh",
        "colab_type": "code",
        "colab": {
          "base_uri": "https://localhost:8080/",
          "height": 816
        },
        "outputId": "d4c32704-ec7b-4b96-82ca-e88a3c85e270"
      },
      "source": [
        "table = pd.crosstab(df_filtered_barrio_not_match.barrio, df_filtered_barrio_not_match.barrio_publicado)\n",
        "table.idxmax(axis=1)"
      ],
      "execution_count": null,
      "outputs": [
        {
          "output_type": "execute_result",
          "data": {
            "text/plain": [
              "barrio\n",
              "AGRONOMIA                VILLA PUEYRREDON\n",
              "ALMAGRO                         CABALLITO\n",
              "BALVANERA                            ONCE\n",
              "BARRACAS                        SAN TELMO\n",
              "BELGRANO                            NUNEZ\n",
              "BOCA                             BARRACAS\n",
              "BOEDO                             ALMAGRO\n",
              "CABALLITO               PARQUE CENTENARIO\n",
              "CHACARITA                      COLEGIALES\n",
              "COGHLAN                          BELGRANO\n",
              "COLEGIALES                       BELGRANO\n",
              "CONSTITUCION                    SAN TELMO\n",
              "FLORES                          CABALLITO\n",
              "FLORESTA                           FLORES\n",
              "LINIERS                         VERSALLES\n",
              "MATADEROS                      VILLA LURO\n",
              "MONSERRAT                       SAN TELMO\n",
              "MONTE CASTRO                 VILLA DEVOTO\n",
              "NUEVA POMPEYA            PARQUE PATRICIOS\n",
              "NUEZ                                NUNEZ\n",
              "PALERMO                          BELGRANO\n",
              "PARQUE AVELLANEDA                FLORESTA\n",
              "PARQUE CHACABUCO                CABALLITO\n",
              "PARQUE CHAS                 VILLA URQUIZA\n",
              "PARQUE PATRICIOS                    BOEDO\n",
              "PATERNAL                        AGRONOMIA\n",
              "RECOLETA                     BARRIO NORTE\n",
              "RETIRO                           RECOLETA\n",
              "SAAVEDRA                            NUNEZ\n",
              "SAN CRISTOBAL                       BOEDO\n",
              "SAN NICOLAS          CENTRO / MICROCENTRO\n",
              "SAN TELMO                        BARRACAS\n",
              "VELEZ SARSFIELD                  FLORESTA\n",
              "VILLA CRESPO                      PALERMO\n",
              "VILLA DEL PARQUE             VILLA DEVOTO\n",
              "VILLA DEVOTO             VILLA PUEYRREDON\n",
              "VILLA GRAL. MITRE     VILLA GENERAL MITRE\n",
              "VILLA LURO                      VERSALLES\n",
              "VILLA ORTUZAR               VILLA URQUIZA\n",
              "VILLA PUEYRREDON             VILLA DEVOTO\n",
              "VILLA REAL                      VERSALLES\n",
              "VILLA RIACHUELO              VILLA LUGANO\n",
              "VILLA SANTA RITA         VILLA DEL PARQUE\n",
              "VILLA SOLDATI                VILLA LUGANO\n",
              "VILLA URQUIZA                    BELGRANO\n",
              "dtype: object"
            ]
          },
          "metadata": {
            "tags": []
          },
          "execution_count": 174
        }
      ]
    },
    {
      "cell_type": "markdown",
      "metadata": {
        "id": "T_58y5JObvTk",
        "colab_type": "text"
      },
      "source": [
        "Podemos ver entonces que los barrios tienden a querer parecerse a barrios con precio con metro cuadrado más caro. Por ejemplo Villa Crespo con Palermo, Constitución con San Telmo y Villa Urquiza con Belgrano. \n",
        "\n",
        "Por otro lado, vemos también que los barrios suelen querer parecerse a sus barrios vecinos."
      ]
    }
  ]
}